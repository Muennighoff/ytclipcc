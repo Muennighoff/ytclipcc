{
  "nbformat": 4,
  "nbformat_minor": 0,
  "metadata": {
    "colab": {
      "name": "wav2vec_youtube_captions.ipynb",
      "provenance": [],
      "collapsed_sections": [],
      "toc_visible": true
    },
    "kernelspec": {
      "name": "python3",
      "display_name": "Python 3"
    },
    "language_info": {
      "name": "python"
    },
    "widgets": {
      "application/vnd.jupyter.widget-state+json": {
        "9b06d858258249ee9be6725be3b38e5f": {
          "model_module": "@jupyter-widgets/controls",
          "model_name": "HBoxModel",
          "state": {
            "_view_name": "HBoxView",
            "_dom_classes": [],
            "_model_name": "HBoxModel",
            "_view_module": "@jupyter-widgets/controls",
            "_model_module_version": "1.5.0",
            "_view_count": null,
            "_view_module_version": "1.5.0",
            "box_style": "",
            "layout": "IPY_MODEL_31972f1b60ab4882b778d8474d269581",
            "_model_module": "@jupyter-widgets/controls",
            "children": [
              "IPY_MODEL_25bdad696f474d32aa57954d3a2f217e",
              "IPY_MODEL_cc28745d8acb41ac89ce8514d5655f06"
            ]
          }
        },
        "31972f1b60ab4882b778d8474d269581": {
          "model_module": "@jupyter-widgets/base",
          "model_name": "LayoutModel",
          "state": {
            "_view_name": "LayoutView",
            "grid_template_rows": null,
            "right": null,
            "justify_content": null,
            "_view_module": "@jupyter-widgets/base",
            "overflow": null,
            "_model_module_version": "1.2.0",
            "_view_count": null,
            "flex_flow": null,
            "width": null,
            "min_width": null,
            "border": null,
            "align_items": null,
            "bottom": null,
            "_model_module": "@jupyter-widgets/base",
            "top": null,
            "grid_column": null,
            "overflow_y": null,
            "overflow_x": null,
            "grid_auto_flow": null,
            "grid_area": null,
            "grid_template_columns": null,
            "flex": null,
            "_model_name": "LayoutModel",
            "justify_items": null,
            "grid_row": null,
            "max_height": null,
            "align_content": null,
            "visibility": null,
            "align_self": null,
            "height": null,
            "min_height": null,
            "padding": null,
            "grid_auto_rows": null,
            "grid_gap": null,
            "max_width": null,
            "order": null,
            "_view_module_version": "1.2.0",
            "grid_template_areas": null,
            "object_position": null,
            "object_fit": null,
            "grid_auto_columns": null,
            "margin": null,
            "display": null,
            "left": null
          }
        },
        "25bdad696f474d32aa57954d3a2f217e": {
          "model_module": "@jupyter-widgets/controls",
          "model_name": "FloatProgressModel",
          "state": {
            "_view_name": "ProgressView",
            "style": "IPY_MODEL_adc8adc32bfd4b21a3bc05c3500b39b5",
            "_dom_classes": [],
            "description": "Downloading: 100%",
            "_model_name": "FloatProgressModel",
            "bar_style": "success",
            "max": 291,
            "_view_module": "@jupyter-widgets/controls",
            "_model_module_version": "1.5.0",
            "value": 291,
            "_view_count": null,
            "_view_module_version": "1.5.0",
            "orientation": "horizontal",
            "min": 0,
            "description_tooltip": null,
            "_model_module": "@jupyter-widgets/controls",
            "layout": "IPY_MODEL_ec2473d37678458b9687e8ac38e5ec40"
          }
        },
        "cc28745d8acb41ac89ce8514d5655f06": {
          "model_module": "@jupyter-widgets/controls",
          "model_name": "HTMLModel",
          "state": {
            "_view_name": "HTMLView",
            "style": "IPY_MODEL_cb08100e56814deab6d78e45b94c9181",
            "_dom_classes": [],
            "description": "",
            "_model_name": "HTMLModel",
            "placeholder": "​",
            "_view_module": "@jupyter-widgets/controls",
            "_model_module_version": "1.5.0",
            "value": " 291/291 [00:00&lt;00:00, 1.14kB/s]",
            "_view_count": null,
            "_view_module_version": "1.5.0",
            "description_tooltip": null,
            "_model_module": "@jupyter-widgets/controls",
            "layout": "IPY_MODEL_88cbc906884e4bc99220c9dede129150"
          }
        },
        "adc8adc32bfd4b21a3bc05c3500b39b5": {
          "model_module": "@jupyter-widgets/controls",
          "model_name": "ProgressStyleModel",
          "state": {
            "_view_name": "StyleView",
            "_model_name": "ProgressStyleModel",
            "description_width": "initial",
            "_view_module": "@jupyter-widgets/base",
            "_model_module_version": "1.5.0",
            "_view_count": null,
            "_view_module_version": "1.2.0",
            "bar_color": null,
            "_model_module": "@jupyter-widgets/controls"
          }
        },
        "ec2473d37678458b9687e8ac38e5ec40": {
          "model_module": "@jupyter-widgets/base",
          "model_name": "LayoutModel",
          "state": {
            "_view_name": "LayoutView",
            "grid_template_rows": null,
            "right": null,
            "justify_content": null,
            "_view_module": "@jupyter-widgets/base",
            "overflow": null,
            "_model_module_version": "1.2.0",
            "_view_count": null,
            "flex_flow": null,
            "width": null,
            "min_width": null,
            "border": null,
            "align_items": null,
            "bottom": null,
            "_model_module": "@jupyter-widgets/base",
            "top": null,
            "grid_column": null,
            "overflow_y": null,
            "overflow_x": null,
            "grid_auto_flow": null,
            "grid_area": null,
            "grid_template_columns": null,
            "flex": null,
            "_model_name": "LayoutModel",
            "justify_items": null,
            "grid_row": null,
            "max_height": null,
            "align_content": null,
            "visibility": null,
            "align_self": null,
            "height": null,
            "min_height": null,
            "padding": null,
            "grid_auto_rows": null,
            "grid_gap": null,
            "max_width": null,
            "order": null,
            "_view_module_version": "1.2.0",
            "grid_template_areas": null,
            "object_position": null,
            "object_fit": null,
            "grid_auto_columns": null,
            "margin": null,
            "display": null,
            "left": null
          }
        },
        "cb08100e56814deab6d78e45b94c9181": {
          "model_module": "@jupyter-widgets/controls",
          "model_name": "DescriptionStyleModel",
          "state": {
            "_view_name": "StyleView",
            "_model_name": "DescriptionStyleModel",
            "description_width": "",
            "_view_module": "@jupyter-widgets/base",
            "_model_module_version": "1.5.0",
            "_view_count": null,
            "_view_module_version": "1.2.0",
            "_model_module": "@jupyter-widgets/controls"
          }
        },
        "88cbc906884e4bc99220c9dede129150": {
          "model_module": "@jupyter-widgets/base",
          "model_name": "LayoutModel",
          "state": {
            "_view_name": "LayoutView",
            "grid_template_rows": null,
            "right": null,
            "justify_content": null,
            "_view_module": "@jupyter-widgets/base",
            "overflow": null,
            "_model_module_version": "1.2.0",
            "_view_count": null,
            "flex_flow": null,
            "width": null,
            "min_width": null,
            "border": null,
            "align_items": null,
            "bottom": null,
            "_model_module": "@jupyter-widgets/base",
            "top": null,
            "grid_column": null,
            "overflow_y": null,
            "overflow_x": null,
            "grid_auto_flow": null,
            "grid_area": null,
            "grid_template_columns": null,
            "flex": null,
            "_model_name": "LayoutModel",
            "justify_items": null,
            "grid_row": null,
            "max_height": null,
            "align_content": null,
            "visibility": null,
            "align_self": null,
            "height": null,
            "min_height": null,
            "padding": null,
            "grid_auto_rows": null,
            "grid_gap": null,
            "max_width": null,
            "order": null,
            "_view_module_version": "1.2.0",
            "grid_template_areas": null,
            "object_position": null,
            "object_fit": null,
            "grid_auto_columns": null,
            "margin": null,
            "display": null,
            "left": null
          }
        },
        "a6b4bf675b0f4cd190bb474ce897c5c0": {
          "model_module": "@jupyter-widgets/controls",
          "model_name": "HBoxModel",
          "state": {
            "_view_name": "HBoxView",
            "_dom_classes": [],
            "_model_name": "HBoxModel",
            "_view_module": "@jupyter-widgets/controls",
            "_model_module_version": "1.5.0",
            "_view_count": null,
            "_view_module_version": "1.5.0",
            "box_style": "",
            "layout": "IPY_MODEL_3fca0ceab1f9468c9f1c72325037593b",
            "_model_module": "@jupyter-widgets/controls",
            "children": [
              "IPY_MODEL_e87a928908d34dadb5ad8fda83b3d836",
              "IPY_MODEL_6e23a7bd546742779f843a6c9004465a"
            ]
          }
        },
        "3fca0ceab1f9468c9f1c72325037593b": {
          "model_module": "@jupyter-widgets/base",
          "model_name": "LayoutModel",
          "state": {
            "_view_name": "LayoutView",
            "grid_template_rows": null,
            "right": null,
            "justify_content": null,
            "_view_module": "@jupyter-widgets/base",
            "overflow": null,
            "_model_module_version": "1.2.0",
            "_view_count": null,
            "flex_flow": null,
            "width": null,
            "min_width": null,
            "border": null,
            "align_items": null,
            "bottom": null,
            "_model_module": "@jupyter-widgets/base",
            "top": null,
            "grid_column": null,
            "overflow_y": null,
            "overflow_x": null,
            "grid_auto_flow": null,
            "grid_area": null,
            "grid_template_columns": null,
            "flex": null,
            "_model_name": "LayoutModel",
            "justify_items": null,
            "grid_row": null,
            "max_height": null,
            "align_content": null,
            "visibility": null,
            "align_self": null,
            "height": null,
            "min_height": null,
            "padding": null,
            "grid_auto_rows": null,
            "grid_gap": null,
            "max_width": null,
            "order": null,
            "_view_module_version": "1.2.0",
            "grid_template_areas": null,
            "object_position": null,
            "object_fit": null,
            "grid_auto_columns": null,
            "margin": null,
            "display": null,
            "left": null
          }
        },
        "e87a928908d34dadb5ad8fda83b3d836": {
          "model_module": "@jupyter-widgets/controls",
          "model_name": "FloatProgressModel",
          "state": {
            "_view_name": "ProgressView",
            "style": "IPY_MODEL_07807476b20c41ed976ef8ba6133f795",
            "_dom_classes": [],
            "description": "Downloading: 100%",
            "_model_name": "FloatProgressModel",
            "bar_style": "success",
            "max": 163,
            "_view_module": "@jupyter-widgets/controls",
            "_model_module_version": "1.5.0",
            "value": 163,
            "_view_count": null,
            "_view_module_version": "1.5.0",
            "orientation": "horizontal",
            "min": 0,
            "description_tooltip": null,
            "_model_module": "@jupyter-widgets/controls",
            "layout": "IPY_MODEL_3eab55a637ed4d0ebc41123403d6ab5e"
          }
        },
        "6e23a7bd546742779f843a6c9004465a": {
          "model_module": "@jupyter-widgets/controls",
          "model_name": "HTMLModel",
          "state": {
            "_view_name": "HTMLView",
            "style": "IPY_MODEL_116280a59677455a90f526aadb0fb0bf",
            "_dom_classes": [],
            "description": "",
            "_model_name": "HTMLModel",
            "placeholder": "​",
            "_view_module": "@jupyter-widgets/controls",
            "_model_module_version": "1.5.0",
            "value": " 163/163 [00:01&lt;00:00, 117B/s]",
            "_view_count": null,
            "_view_module_version": "1.5.0",
            "description_tooltip": null,
            "_model_module": "@jupyter-widgets/controls",
            "layout": "IPY_MODEL_e2bfcff8dce64337973b7647b89c5a93"
          }
        },
        "07807476b20c41ed976ef8ba6133f795": {
          "model_module": "@jupyter-widgets/controls",
          "model_name": "ProgressStyleModel",
          "state": {
            "_view_name": "StyleView",
            "_model_name": "ProgressStyleModel",
            "description_width": "initial",
            "_view_module": "@jupyter-widgets/base",
            "_model_module_version": "1.5.0",
            "_view_count": null,
            "_view_module_version": "1.2.0",
            "bar_color": null,
            "_model_module": "@jupyter-widgets/controls"
          }
        },
        "3eab55a637ed4d0ebc41123403d6ab5e": {
          "model_module": "@jupyter-widgets/base",
          "model_name": "LayoutModel",
          "state": {
            "_view_name": "LayoutView",
            "grid_template_rows": null,
            "right": null,
            "justify_content": null,
            "_view_module": "@jupyter-widgets/base",
            "overflow": null,
            "_model_module_version": "1.2.0",
            "_view_count": null,
            "flex_flow": null,
            "width": null,
            "min_width": null,
            "border": null,
            "align_items": null,
            "bottom": null,
            "_model_module": "@jupyter-widgets/base",
            "top": null,
            "grid_column": null,
            "overflow_y": null,
            "overflow_x": null,
            "grid_auto_flow": null,
            "grid_area": null,
            "grid_template_columns": null,
            "flex": null,
            "_model_name": "LayoutModel",
            "justify_items": null,
            "grid_row": null,
            "max_height": null,
            "align_content": null,
            "visibility": null,
            "align_self": null,
            "height": null,
            "min_height": null,
            "padding": null,
            "grid_auto_rows": null,
            "grid_gap": null,
            "max_width": null,
            "order": null,
            "_view_module_version": "1.2.0",
            "grid_template_areas": null,
            "object_position": null,
            "object_fit": null,
            "grid_auto_columns": null,
            "margin": null,
            "display": null,
            "left": null
          }
        },
        "116280a59677455a90f526aadb0fb0bf": {
          "model_module": "@jupyter-widgets/controls",
          "model_name": "DescriptionStyleModel",
          "state": {
            "_view_name": "StyleView",
            "_model_name": "DescriptionStyleModel",
            "description_width": "",
            "_view_module": "@jupyter-widgets/base",
            "_model_module_version": "1.5.0",
            "_view_count": null,
            "_view_module_version": "1.2.0",
            "_model_module": "@jupyter-widgets/controls"
          }
        },
        "e2bfcff8dce64337973b7647b89c5a93": {
          "model_module": "@jupyter-widgets/base",
          "model_name": "LayoutModel",
          "state": {
            "_view_name": "LayoutView",
            "grid_template_rows": null,
            "right": null,
            "justify_content": null,
            "_view_module": "@jupyter-widgets/base",
            "overflow": null,
            "_model_module_version": "1.2.0",
            "_view_count": null,
            "flex_flow": null,
            "width": null,
            "min_width": null,
            "border": null,
            "align_items": null,
            "bottom": null,
            "_model_module": "@jupyter-widgets/base",
            "top": null,
            "grid_column": null,
            "overflow_y": null,
            "overflow_x": null,
            "grid_auto_flow": null,
            "grid_area": null,
            "grid_template_columns": null,
            "flex": null,
            "_model_name": "LayoutModel",
            "justify_items": null,
            "grid_row": null,
            "max_height": null,
            "align_content": null,
            "visibility": null,
            "align_self": null,
            "height": null,
            "min_height": null,
            "padding": null,
            "grid_auto_rows": null,
            "grid_gap": null,
            "max_width": null,
            "order": null,
            "_view_module_version": "1.2.0",
            "grid_template_areas": null,
            "object_position": null,
            "object_fit": null,
            "grid_auto_columns": null,
            "margin": null,
            "display": null,
            "left": null
          }
        },
        "a8f036127aab4a47ab4456a2f96b33ee": {
          "model_module": "@jupyter-widgets/controls",
          "model_name": "HBoxModel",
          "state": {
            "_view_name": "HBoxView",
            "_dom_classes": [],
            "_model_name": "HBoxModel",
            "_view_module": "@jupyter-widgets/controls",
            "_model_module_version": "1.5.0",
            "_view_count": null,
            "_view_module_version": "1.5.0",
            "box_style": "",
            "layout": "IPY_MODEL_37b8db1e86d0428f8886b1ee9fcf68d4",
            "_model_module": "@jupyter-widgets/controls",
            "children": [
              "IPY_MODEL_3c3d3f940de04657a8f0dd84939ee8d8",
              "IPY_MODEL_0733359571684ee78a10609460d70772"
            ]
          }
        },
        "37b8db1e86d0428f8886b1ee9fcf68d4": {
          "model_module": "@jupyter-widgets/base",
          "model_name": "LayoutModel",
          "state": {
            "_view_name": "LayoutView",
            "grid_template_rows": null,
            "right": null,
            "justify_content": null,
            "_view_module": "@jupyter-widgets/base",
            "overflow": null,
            "_model_module_version": "1.2.0",
            "_view_count": null,
            "flex_flow": null,
            "width": null,
            "min_width": null,
            "border": null,
            "align_items": null,
            "bottom": null,
            "_model_module": "@jupyter-widgets/base",
            "top": null,
            "grid_column": null,
            "overflow_y": null,
            "overflow_x": null,
            "grid_auto_flow": null,
            "grid_area": null,
            "grid_template_columns": null,
            "flex": null,
            "_model_name": "LayoutModel",
            "justify_items": null,
            "grid_row": null,
            "max_height": null,
            "align_content": null,
            "visibility": null,
            "align_self": null,
            "height": null,
            "min_height": null,
            "padding": null,
            "grid_auto_rows": null,
            "grid_gap": null,
            "max_width": null,
            "order": null,
            "_view_module_version": "1.2.0",
            "grid_template_areas": null,
            "object_position": null,
            "object_fit": null,
            "grid_auto_columns": null,
            "margin": null,
            "display": null,
            "left": null
          }
        },
        "3c3d3f940de04657a8f0dd84939ee8d8": {
          "model_module": "@jupyter-widgets/controls",
          "model_name": "FloatProgressModel",
          "state": {
            "_view_name": "ProgressView",
            "style": "IPY_MODEL_cc25f466978f4089be977c1f1c07e564",
            "_dom_classes": [],
            "description": "Downloading: 100%",
            "_model_name": "FloatProgressModel",
            "bar_style": "success",
            "max": 85,
            "_view_module": "@jupyter-widgets/controls",
            "_model_module_version": "1.5.0",
            "value": 85,
            "_view_count": null,
            "_view_module_version": "1.5.0",
            "orientation": "horizontal",
            "min": 0,
            "description_tooltip": null,
            "_model_module": "@jupyter-widgets/controls",
            "layout": "IPY_MODEL_8940daa2d5df4ee48fd61d35b797c13b"
          }
        },
        "0733359571684ee78a10609460d70772": {
          "model_module": "@jupyter-widgets/controls",
          "model_name": "HTMLModel",
          "state": {
            "_view_name": "HTMLView",
            "style": "IPY_MODEL_75886d1b8103440188c5ff9f13a9caf4",
            "_dom_classes": [],
            "description": "",
            "_model_name": "HTMLModel",
            "placeholder": "​",
            "_view_module": "@jupyter-widgets/controls",
            "_model_module_version": "1.5.0",
            "value": " 85.0/85.0 [00:00&lt;00:00, 122B/s]",
            "_view_count": null,
            "_view_module_version": "1.5.0",
            "description_tooltip": null,
            "_model_module": "@jupyter-widgets/controls",
            "layout": "IPY_MODEL_be157f3b04f842bc82c31b110bb004e3"
          }
        },
        "cc25f466978f4089be977c1f1c07e564": {
          "model_module": "@jupyter-widgets/controls",
          "model_name": "ProgressStyleModel",
          "state": {
            "_view_name": "StyleView",
            "_model_name": "ProgressStyleModel",
            "description_width": "initial",
            "_view_module": "@jupyter-widgets/base",
            "_model_module_version": "1.5.0",
            "_view_count": null,
            "_view_module_version": "1.2.0",
            "bar_color": null,
            "_model_module": "@jupyter-widgets/controls"
          }
        },
        "8940daa2d5df4ee48fd61d35b797c13b": {
          "model_module": "@jupyter-widgets/base",
          "model_name": "LayoutModel",
          "state": {
            "_view_name": "LayoutView",
            "grid_template_rows": null,
            "right": null,
            "justify_content": null,
            "_view_module": "@jupyter-widgets/base",
            "overflow": null,
            "_model_module_version": "1.2.0",
            "_view_count": null,
            "flex_flow": null,
            "width": null,
            "min_width": null,
            "border": null,
            "align_items": null,
            "bottom": null,
            "_model_module": "@jupyter-widgets/base",
            "top": null,
            "grid_column": null,
            "overflow_y": null,
            "overflow_x": null,
            "grid_auto_flow": null,
            "grid_area": null,
            "grid_template_columns": null,
            "flex": null,
            "_model_name": "LayoutModel",
            "justify_items": null,
            "grid_row": null,
            "max_height": null,
            "align_content": null,
            "visibility": null,
            "align_self": null,
            "height": null,
            "min_height": null,
            "padding": null,
            "grid_auto_rows": null,
            "grid_gap": null,
            "max_width": null,
            "order": null,
            "_view_module_version": "1.2.0",
            "grid_template_areas": null,
            "object_position": null,
            "object_fit": null,
            "grid_auto_columns": null,
            "margin": null,
            "display": null,
            "left": null
          }
        },
        "75886d1b8103440188c5ff9f13a9caf4": {
          "model_module": "@jupyter-widgets/controls",
          "model_name": "DescriptionStyleModel",
          "state": {
            "_view_name": "StyleView",
            "_model_name": "DescriptionStyleModel",
            "description_width": "",
            "_view_module": "@jupyter-widgets/base",
            "_model_module_version": "1.5.0",
            "_view_count": null,
            "_view_module_version": "1.2.0",
            "_model_module": "@jupyter-widgets/controls"
          }
        },
        "be157f3b04f842bc82c31b110bb004e3": {
          "model_module": "@jupyter-widgets/base",
          "model_name": "LayoutModel",
          "state": {
            "_view_name": "LayoutView",
            "grid_template_rows": null,
            "right": null,
            "justify_content": null,
            "_view_module": "@jupyter-widgets/base",
            "overflow": null,
            "_model_module_version": "1.2.0",
            "_view_count": null,
            "flex_flow": null,
            "width": null,
            "min_width": null,
            "border": null,
            "align_items": null,
            "bottom": null,
            "_model_module": "@jupyter-widgets/base",
            "top": null,
            "grid_column": null,
            "overflow_y": null,
            "overflow_x": null,
            "grid_auto_flow": null,
            "grid_area": null,
            "grid_template_columns": null,
            "flex": null,
            "_model_name": "LayoutModel",
            "justify_items": null,
            "grid_row": null,
            "max_height": null,
            "align_content": null,
            "visibility": null,
            "align_self": null,
            "height": null,
            "min_height": null,
            "padding": null,
            "grid_auto_rows": null,
            "grid_gap": null,
            "max_width": null,
            "order": null,
            "_view_module_version": "1.2.0",
            "grid_template_areas": null,
            "object_position": null,
            "object_fit": null,
            "grid_auto_columns": null,
            "margin": null,
            "display": null,
            "left": null
          }
        },
        "448028d704504add9e589e83d8f70898": {
          "model_module": "@jupyter-widgets/controls",
          "model_name": "HBoxModel",
          "state": {
            "_view_name": "HBoxView",
            "_dom_classes": [],
            "_model_name": "HBoxModel",
            "_view_module": "@jupyter-widgets/controls",
            "_model_module_version": "1.5.0",
            "_view_count": null,
            "_view_module_version": "1.5.0",
            "box_style": "",
            "layout": "IPY_MODEL_aa2a3ca7db0d49cc8731ca3c365cf907",
            "_model_module": "@jupyter-widgets/controls",
            "children": [
              "IPY_MODEL_52c4c30087624545b5104ead5f0e8bdd",
              "IPY_MODEL_7f67dc102a6441a794a44303f3f65a77"
            ]
          }
        },
        "aa2a3ca7db0d49cc8731ca3c365cf907": {
          "model_module": "@jupyter-widgets/base",
          "model_name": "LayoutModel",
          "state": {
            "_view_name": "LayoutView",
            "grid_template_rows": null,
            "right": null,
            "justify_content": null,
            "_view_module": "@jupyter-widgets/base",
            "overflow": null,
            "_model_module_version": "1.2.0",
            "_view_count": null,
            "flex_flow": null,
            "width": null,
            "min_width": null,
            "border": null,
            "align_items": null,
            "bottom": null,
            "_model_module": "@jupyter-widgets/base",
            "top": null,
            "grid_column": null,
            "overflow_y": null,
            "overflow_x": null,
            "grid_auto_flow": null,
            "grid_area": null,
            "grid_template_columns": null,
            "flex": null,
            "_model_name": "LayoutModel",
            "justify_items": null,
            "grid_row": null,
            "max_height": null,
            "align_content": null,
            "visibility": null,
            "align_self": null,
            "height": null,
            "min_height": null,
            "padding": null,
            "grid_auto_rows": null,
            "grid_gap": null,
            "max_width": null,
            "order": null,
            "_view_module_version": "1.2.0",
            "grid_template_areas": null,
            "object_position": null,
            "object_fit": null,
            "grid_auto_columns": null,
            "margin": null,
            "display": null,
            "left": null
          }
        },
        "52c4c30087624545b5104ead5f0e8bdd": {
          "model_module": "@jupyter-widgets/controls",
          "model_name": "FloatProgressModel",
          "state": {
            "_view_name": "ProgressView",
            "style": "IPY_MODEL_f74684e2d58f45e1940e029143b1e0b9",
            "_dom_classes": [],
            "description": "Downloading: 100%",
            "_model_name": "FloatProgressModel",
            "bar_style": "success",
            "max": 843,
            "_view_module": "@jupyter-widgets/controls",
            "_model_module_version": "1.5.0",
            "value": 843,
            "_view_count": null,
            "_view_module_version": "1.5.0",
            "orientation": "horizontal",
            "min": 0,
            "description_tooltip": null,
            "_model_module": "@jupyter-widgets/controls",
            "layout": "IPY_MODEL_9052945aff874b83a459a7d0b7acee4d"
          }
        },
        "7f67dc102a6441a794a44303f3f65a77": {
          "model_module": "@jupyter-widgets/controls",
          "model_name": "HTMLModel",
          "state": {
            "_view_name": "HTMLView",
            "style": "IPY_MODEL_57a9afadd0c14dfc831924e6c0c805f6",
            "_dom_classes": [],
            "description": "",
            "_model_name": "HTMLModel",
            "placeholder": "​",
            "_view_module": "@jupyter-widgets/controls",
            "_model_module_version": "1.5.0",
            "value": " 843/843 [00:39&lt;00:00, 21.4B/s]",
            "_view_count": null,
            "_view_module_version": "1.5.0",
            "description_tooltip": null,
            "_model_module": "@jupyter-widgets/controls",
            "layout": "IPY_MODEL_e316e5bc104f434aba8624e7377491e1"
          }
        },
        "f74684e2d58f45e1940e029143b1e0b9": {
          "model_module": "@jupyter-widgets/controls",
          "model_name": "ProgressStyleModel",
          "state": {
            "_view_name": "StyleView",
            "_model_name": "ProgressStyleModel",
            "description_width": "initial",
            "_view_module": "@jupyter-widgets/base",
            "_model_module_version": "1.5.0",
            "_view_count": null,
            "_view_module_version": "1.2.0",
            "bar_color": null,
            "_model_module": "@jupyter-widgets/controls"
          }
        },
        "9052945aff874b83a459a7d0b7acee4d": {
          "model_module": "@jupyter-widgets/base",
          "model_name": "LayoutModel",
          "state": {
            "_view_name": "LayoutView",
            "grid_template_rows": null,
            "right": null,
            "justify_content": null,
            "_view_module": "@jupyter-widgets/base",
            "overflow": null,
            "_model_module_version": "1.2.0",
            "_view_count": null,
            "flex_flow": null,
            "width": null,
            "min_width": null,
            "border": null,
            "align_items": null,
            "bottom": null,
            "_model_module": "@jupyter-widgets/base",
            "top": null,
            "grid_column": null,
            "overflow_y": null,
            "overflow_x": null,
            "grid_auto_flow": null,
            "grid_area": null,
            "grid_template_columns": null,
            "flex": null,
            "_model_name": "LayoutModel",
            "justify_items": null,
            "grid_row": null,
            "max_height": null,
            "align_content": null,
            "visibility": null,
            "align_self": null,
            "height": null,
            "min_height": null,
            "padding": null,
            "grid_auto_rows": null,
            "grid_gap": null,
            "max_width": null,
            "order": null,
            "_view_module_version": "1.2.0",
            "grid_template_areas": null,
            "object_position": null,
            "object_fit": null,
            "grid_auto_columns": null,
            "margin": null,
            "display": null,
            "left": null
          }
        },
        "57a9afadd0c14dfc831924e6c0c805f6": {
          "model_module": "@jupyter-widgets/controls",
          "model_name": "DescriptionStyleModel",
          "state": {
            "_view_name": "StyleView",
            "_model_name": "DescriptionStyleModel",
            "description_width": "",
            "_view_module": "@jupyter-widgets/base",
            "_model_module_version": "1.5.0",
            "_view_count": null,
            "_view_module_version": "1.2.0",
            "_model_module": "@jupyter-widgets/controls"
          }
        },
        "e316e5bc104f434aba8624e7377491e1": {
          "model_module": "@jupyter-widgets/base",
          "model_name": "LayoutModel",
          "state": {
            "_view_name": "LayoutView",
            "grid_template_rows": null,
            "right": null,
            "justify_content": null,
            "_view_module": "@jupyter-widgets/base",
            "overflow": null,
            "_model_module_version": "1.2.0",
            "_view_count": null,
            "flex_flow": null,
            "width": null,
            "min_width": null,
            "border": null,
            "align_items": null,
            "bottom": null,
            "_model_module": "@jupyter-widgets/base",
            "top": null,
            "grid_column": null,
            "overflow_y": null,
            "overflow_x": null,
            "grid_auto_flow": null,
            "grid_area": null,
            "grid_template_columns": null,
            "flex": null,
            "_model_name": "LayoutModel",
            "justify_items": null,
            "grid_row": null,
            "max_height": null,
            "align_content": null,
            "visibility": null,
            "align_self": null,
            "height": null,
            "min_height": null,
            "padding": null,
            "grid_auto_rows": null,
            "grid_gap": null,
            "max_width": null,
            "order": null,
            "_view_module_version": "1.2.0",
            "grid_template_areas": null,
            "object_position": null,
            "object_fit": null,
            "grid_auto_columns": null,
            "margin": null,
            "display": null,
            "left": null
          }
        },
        "066b7b431d2d4c3fa74c221a6521f8fc": {
          "model_module": "@jupyter-widgets/controls",
          "model_name": "HBoxModel",
          "state": {
            "_view_name": "HBoxView",
            "_dom_classes": [],
            "_model_name": "HBoxModel",
            "_view_module": "@jupyter-widgets/controls",
            "_model_module_version": "1.5.0",
            "_view_count": null,
            "_view_module_version": "1.5.0",
            "box_style": "",
            "layout": "IPY_MODEL_30c448b443fd466584c4b51fc4d63eb1",
            "_model_module": "@jupyter-widgets/controls",
            "children": [
              "IPY_MODEL_717495f97af34df0b9c0e41e26a3a1ad",
              "IPY_MODEL_58ec0e6b99cc46508c04a90854fca161"
            ]
          }
        },
        "30c448b443fd466584c4b51fc4d63eb1": {
          "model_module": "@jupyter-widgets/base",
          "model_name": "LayoutModel",
          "state": {
            "_view_name": "LayoutView",
            "grid_template_rows": null,
            "right": null,
            "justify_content": null,
            "_view_module": "@jupyter-widgets/base",
            "overflow": null,
            "_model_module_version": "1.2.0",
            "_view_count": null,
            "flex_flow": null,
            "width": null,
            "min_width": null,
            "border": null,
            "align_items": null,
            "bottom": null,
            "_model_module": "@jupyter-widgets/base",
            "top": null,
            "grid_column": null,
            "overflow_y": null,
            "overflow_x": null,
            "grid_auto_flow": null,
            "grid_area": null,
            "grid_template_columns": null,
            "flex": null,
            "_model_name": "LayoutModel",
            "justify_items": null,
            "grid_row": null,
            "max_height": null,
            "align_content": null,
            "visibility": null,
            "align_self": null,
            "height": null,
            "min_height": null,
            "padding": null,
            "grid_auto_rows": null,
            "grid_gap": null,
            "max_width": null,
            "order": null,
            "_view_module_version": "1.2.0",
            "grid_template_areas": null,
            "object_position": null,
            "object_fit": null,
            "grid_auto_columns": null,
            "margin": null,
            "display": null,
            "left": null
          }
        },
        "717495f97af34df0b9c0e41e26a3a1ad": {
          "model_module": "@jupyter-widgets/controls",
          "model_name": "FloatProgressModel",
          "state": {
            "_view_name": "ProgressView",
            "style": "IPY_MODEL_112ccf19706d496c9e16cdda1d10c647",
            "_dom_classes": [],
            "description": "Downloading: 100%",
            "_model_name": "FloatProgressModel",
            "bar_style": "success",
            "max": 377667514,
            "_view_module": "@jupyter-widgets/controls",
            "_model_module_version": "1.5.0",
            "value": 377667514,
            "_view_count": null,
            "_view_module_version": "1.5.0",
            "orientation": "horizontal",
            "min": 0,
            "description_tooltip": null,
            "_model_module": "@jupyter-widgets/controls",
            "layout": "IPY_MODEL_1a9053342b334427a020d8ae0b5798d3"
          }
        },
        "58ec0e6b99cc46508c04a90854fca161": {
          "model_module": "@jupyter-widgets/controls",
          "model_name": "HTMLModel",
          "state": {
            "_view_name": "HTMLView",
            "style": "IPY_MODEL_40f96298f3684bf28bbe087843588d07",
            "_dom_classes": [],
            "description": "",
            "_model_name": "HTMLModel",
            "placeholder": "​",
            "_view_module": "@jupyter-widgets/controls",
            "_model_module_version": "1.5.0",
            "value": " 378M/378M [00:08&lt;00:00, 46.2MB/s]",
            "_view_count": null,
            "_view_module_version": "1.5.0",
            "description_tooltip": null,
            "_model_module": "@jupyter-widgets/controls",
            "layout": "IPY_MODEL_7150b02ab6354f7d817b2fb20715977b"
          }
        },
        "112ccf19706d496c9e16cdda1d10c647": {
          "model_module": "@jupyter-widgets/controls",
          "model_name": "ProgressStyleModel",
          "state": {
            "_view_name": "StyleView",
            "_model_name": "ProgressStyleModel",
            "description_width": "initial",
            "_view_module": "@jupyter-widgets/base",
            "_model_module_version": "1.5.0",
            "_view_count": null,
            "_view_module_version": "1.2.0",
            "bar_color": null,
            "_model_module": "@jupyter-widgets/controls"
          }
        },
        "1a9053342b334427a020d8ae0b5798d3": {
          "model_module": "@jupyter-widgets/base",
          "model_name": "LayoutModel",
          "state": {
            "_view_name": "LayoutView",
            "grid_template_rows": null,
            "right": null,
            "justify_content": null,
            "_view_module": "@jupyter-widgets/base",
            "overflow": null,
            "_model_module_version": "1.2.0",
            "_view_count": null,
            "flex_flow": null,
            "width": null,
            "min_width": null,
            "border": null,
            "align_items": null,
            "bottom": null,
            "_model_module": "@jupyter-widgets/base",
            "top": null,
            "grid_column": null,
            "overflow_y": null,
            "overflow_x": null,
            "grid_auto_flow": null,
            "grid_area": null,
            "grid_template_columns": null,
            "flex": null,
            "_model_name": "LayoutModel",
            "justify_items": null,
            "grid_row": null,
            "max_height": null,
            "align_content": null,
            "visibility": null,
            "align_self": null,
            "height": null,
            "min_height": null,
            "padding": null,
            "grid_auto_rows": null,
            "grid_gap": null,
            "max_width": null,
            "order": null,
            "_view_module_version": "1.2.0",
            "grid_template_areas": null,
            "object_position": null,
            "object_fit": null,
            "grid_auto_columns": null,
            "margin": null,
            "display": null,
            "left": null
          }
        },
        "40f96298f3684bf28bbe087843588d07": {
          "model_module": "@jupyter-widgets/controls",
          "model_name": "DescriptionStyleModel",
          "state": {
            "_view_name": "StyleView",
            "_model_name": "DescriptionStyleModel",
            "description_width": "",
            "_view_module": "@jupyter-widgets/base",
            "_model_module_version": "1.5.0",
            "_view_count": null,
            "_view_module_version": "1.2.0",
            "_model_module": "@jupyter-widgets/controls"
          }
        },
        "7150b02ab6354f7d817b2fb20715977b": {
          "model_module": "@jupyter-widgets/base",
          "model_name": "LayoutModel",
          "state": {
            "_view_name": "LayoutView",
            "grid_template_rows": null,
            "right": null,
            "justify_content": null,
            "_view_module": "@jupyter-widgets/base",
            "overflow": null,
            "_model_module_version": "1.2.0",
            "_view_count": null,
            "flex_flow": null,
            "width": null,
            "min_width": null,
            "border": null,
            "align_items": null,
            "bottom": null,
            "_model_module": "@jupyter-widgets/base",
            "top": null,
            "grid_column": null,
            "overflow_y": null,
            "overflow_x": null,
            "grid_auto_flow": null,
            "grid_area": null,
            "grid_template_columns": null,
            "flex": null,
            "_model_name": "LayoutModel",
            "justify_items": null,
            "grid_row": null,
            "max_height": null,
            "align_content": null,
            "visibility": null,
            "align_self": null,
            "height": null,
            "min_height": null,
            "padding": null,
            "grid_auto_rows": null,
            "grid_gap": null,
            "max_width": null,
            "order": null,
            "_view_module_version": "1.2.0",
            "grid_template_areas": null,
            "object_position": null,
            "object_fit": null,
            "grid_auto_columns": null,
            "margin": null,
            "display": null,
            "left": null
          }
        }
      }
    }
  },
  "cells": [
    {
      "cell_type": "markdown",
      "metadata": {
        "id": "9ObvuKqFqvpE"
      },
      "source": [
        "[![Open In Colab](https://colab.research.google.com/assets/colab-badge.svg)](https://colab.research.google.com/github/Muennighoff/ytclipcc/blob/main/wav2vec_youtube_captions.ipynb)\n",
        "[GitHub](https://github.com/Muennighoff/ytclipcc/blob/main/wav2vec_youtube_captions.ipynb)\n",
        "# Creating YouTube Captions with Wav2Vec\n",
        "\n",
        "---"
      ]
    },
    {
      "cell_type": "markdown",
      "metadata": {
        "id": "lNvEmcfKrQH4"
      },
      "source": [
        "The Wav2Vec model was introduced by Facebook [here](https://arxiv.org/abs/2006.11477). Thanks to 🤗 Transformers, we can load it in seconds and build cool applications on top of it!\n",
        "\n",
        "This notebooks aim is to serve as an inspiration for just that. We will build a simple script to create captions for YouTube videos! The notebook can be run on CPU. If you have any questions feel free to raise an issue at the GitHub link above."
      ]
    },
    {
      "cell_type": "markdown",
      "metadata": {
        "id": "nG3sw6CGrN-6"
      },
      "source": [
        "## Setup\n",
        "\n",
        "---"
      ]
    },
    {
      "cell_type": "code",
      "metadata": {
        "colab": {
          "base_uri": "https://localhost:8080/"
        },
        "id": "nctvDSx9pQ28",
        "outputId": "577e4e29-6dc3-4481-b0de-17c6d3ded35f"
      },
      "source": [
        "!pip -q install transformers\n",
        "!pip -q install youtube_dl"
      ],
      "execution_count": 1,
      "outputs": [
        {
          "output_type": "stream",
          "text": [
            "\u001b[K     |████████████████████████████████| 2.2MB 8.4MB/s \n",
            "\u001b[K     |████████████████████████████████| 870kB 45.2MB/s \n",
            "\u001b[K     |████████████████████████████████| 3.3MB 28.0MB/s \n",
            "\u001b[?25h  Building wheel for sacremoses (setup.py) ... \u001b[?25l\u001b[?25hdone\n",
            "\u001b[K     |████████████████████████████████| 1.9MB 9.5MB/s \n",
            "\u001b[?25h"
          ],
          "name": "stdout"
        }
      ]
    },
    {
      "cell_type": "code",
      "metadata": {
        "colab": {
          "base_uri": "https://localhost:8080/"
        },
        "id": "m6HYcU4Vr7HD",
        "outputId": "e8d470c6-741b-46d1-de94-461649685f94"
      },
      "source": [
        "from transformers import Wav2Vec2Tokenizer, Wav2Vec2ForCTC\n",
        "from IPython.display import Audio\n",
        "\n",
        "import moviepy.editor as mp\n",
        "import torch\n",
        "import librosa\n",
        "import os"
      ],
      "execution_count": 2,
      "outputs": [
        {
          "output_type": "stream",
          "text": [
            "Imageio: 'ffmpeg-linux64-v3.3.1' was not found on your computer; downloading it now.\n",
            "Try 1. Download from https://github.com/imageio/imageio-binaries/raw/master/ffmpeg/ffmpeg-linux64-v3.3.1 (43.8 MB)\n",
            "Downloading: 8192/45929032 bytes (0.0%)\b\b\b\b\b\b\b\b\b\b\b\b\b\b\b\b\b\b\b\b\b\b\b\b\b\b2990080/45929032 bytes (6.5%)\b\b\b\b\b\b\b\b\b\b\b\b\b\b\b\b\b\b\b\b\b\b\b\b\b\b\b\b\b6291456/45929032 bytes (13.7%)\b\b\b\b\b\b\b\b\b\b\b\b\b\b\b\b\b\b\b\b\b\b\b\b\b\b\b\b\b\b9101312/45929032 bytes (19.8%)\b\b\b\b\b\b\b\b\b\b\b\b\b\b\b\b\b\b\b\b\b\b\b\b\b\b\b\b\b\b12263424/45929032 bytes (26.7%)\b\b\b\b\b\b\b\b\b\b\b\b\b\b\b\b\b\b\b\b\b\b\b\b\b\b\b\b\b\b\b15343616/45929032 bytes (33.4%)\b\b\b\b\b\b\b\b\b\b\b\b\b\b\b\b\b\b\b\b\b\b\b\b\b\b\b\b\b\b\b18604032/45929032 bytes (40.5%)\b\b\b\b\b\b\b\b\b\b\b\b\b\b\b\b\b\b\b\b\b\b\b\b\b\b\b\b\b\b\b21749760/45929032 bytes (47.4%)\b\b\b\b\b\b\b\b\b\b\b\b\b\b\b\b\b\b\b\b\b\b\b\b\b\b\b\b\b\b\b24739840/45929032 bytes (53.9%)\b\b\b\b\b\b\b\b\b\b\b\b\b\b\b\b\b\b\b\b\b\b\b\b\b\b\b\b\b\b\b27836416/45929032 bytes (60.6%)\b\b\b\b\b\b\b\b\b\b\b\b\b\b\b\b\b\b\b\b\b\b\b\b\b\b\b\b\b\b\b31268864/45929032 bytes (68.1%)\b\b\b\b\b\b\b\b\b\b\b\b\b\b\b\b\b\b\b\b\b\b\b\b\b\b\b\b\b\b\b34709504/45929032 bytes (75.6%)\b\b\b\b\b\b\b\b\b\b\b\b\b\b\b\b\b\b\b\b\b\b\b\b\b\b\b\b\b\b\b37912576/45929032 bytes (82.5%)\b\b\b\b\b\b\b\b\b\b\b\b\b\b\b\b\b\b\b\b\b\b\b\b\b\b\b\b\b\b\b41164800/45929032 bytes (89.6%)\b\b\b\b\b\b\b\b\b\b\b\b\b\b\b\b\b\b\b\b\b\b\b\b\b\b\b\b\b\b\b44269568/45929032 bytes (96.4%)\b\b\b\b\b\b\b\b\b\b\b\b\b\b\b\b\b\b\b\b\b\b\b\b\b\b\b\b\b\b\b45929032/45929032 bytes (100.0%)\n",
            "  Done\n",
            "File saved as /root/.imageio/ffmpeg/ffmpeg-linux64-v3.3.1.\n"
          ],
          "name": "stdout"
        }
      ]
    },
    {
      "cell_type": "markdown",
      "metadata": {
        "id": "Npi9t6uCr6jN"
      },
      "source": [
        "## Get Clip\n",
        "\n",
        "---"
      ]
    },
    {
      "cell_type": "markdown",
      "metadata": {
        "id": "gzSbcjaysn6R"
      },
      "source": [
        "Choose your favorite clip from YouTube & paste in the YouTube link. Ideally make it a short clip, as it will take some time to download. Choose the start & end seconds for the sequence whose caption you'd like to create. You can also give it a run with the default first 😊"
      ]
    },
    {
      "cell_type": "code",
      "metadata": {
        "id": "cAyYM9XPs05q"
      },
      "source": [
        "# Substitute below YT link\n",
        "clip = \"https://www.youtube.com/watch?v=7Ood-IE7sx4\"\n",
        "\n",
        "# Substitue below for start/end seconds\n",
        "start = 1\n",
        "end = 4"
      ],
      "execution_count": 5,
      "outputs": []
    },
    {
      "cell_type": "code",
      "metadata": {
        "colab": {
          "base_uri": "https://localhost:8080/"
        },
        "id": "JRK1o1DitfTM",
        "outputId": "b6fe9226-4a56-457f-862c-8fe14be3dbd5"
      },
      "source": [
        "# Download the clip as mp4 & rename it for usability\n",
        "os.system('youtube-dl {} --recode-video mp4'.format(clip))\n",
        "os.system('mv *.mp4 clip.mp4')"
      ],
      "execution_count": 4,
      "outputs": [
        {
          "output_type": "execute_result",
          "data": {
            "text/plain": [
              "0"
            ]
          },
          "metadata": {
            "tags": []
          },
          "execution_count": 4
        }
      ]
    },
    {
      "cell_type": "markdown",
      "metadata": {
        "id": "wNrrqoCZvVAs"
      },
      "source": [
        "## Model and tokenizer\n",
        "\n",
        "---"
      ]
    },
    {
      "cell_type": "markdown",
      "metadata": {
        "id": "URLRwAb_vYFx"
      },
      "source": [
        "Load the Wav2Vec model from 🤗 Transformers. See [here](https://huggingface.co/transformers/model_doc/wav2vec2.html) for the models documentation."
      ]
    },
    {
      "cell_type": "code",
      "metadata": {
        "colab": {
          "base_uri": "https://localhost:8080/",
          "height": 319,
          "referenced_widgets": [
            "9b06d858258249ee9be6725be3b38e5f",
            "31972f1b60ab4882b778d8474d269581",
            "25bdad696f474d32aa57954d3a2f217e",
            "cc28745d8acb41ac89ce8514d5655f06",
            "adc8adc32bfd4b21a3bc05c3500b39b5",
            "ec2473d37678458b9687e8ac38e5ec40",
            "cb08100e56814deab6d78e45b94c9181",
            "88cbc906884e4bc99220c9dede129150",
            "a6b4bf675b0f4cd190bb474ce897c5c0",
            "3fca0ceab1f9468c9f1c72325037593b",
            "e87a928908d34dadb5ad8fda83b3d836",
            "6e23a7bd546742779f843a6c9004465a",
            "07807476b20c41ed976ef8ba6133f795",
            "3eab55a637ed4d0ebc41123403d6ab5e",
            "116280a59677455a90f526aadb0fb0bf",
            "e2bfcff8dce64337973b7647b89c5a93",
            "a8f036127aab4a47ab4456a2f96b33ee",
            "37b8db1e86d0428f8886b1ee9fcf68d4",
            "3c3d3f940de04657a8f0dd84939ee8d8",
            "0733359571684ee78a10609460d70772",
            "cc25f466978f4089be977c1f1c07e564",
            "8940daa2d5df4ee48fd61d35b797c13b",
            "75886d1b8103440188c5ff9f13a9caf4",
            "be157f3b04f842bc82c31b110bb004e3",
            "448028d704504add9e589e83d8f70898",
            "aa2a3ca7db0d49cc8731ca3c365cf907",
            "52c4c30087624545b5104ead5f0e8bdd",
            "7f67dc102a6441a794a44303f3f65a77",
            "f74684e2d58f45e1940e029143b1e0b9",
            "9052945aff874b83a459a7d0b7acee4d",
            "57a9afadd0c14dfc831924e6c0c805f6",
            "e316e5bc104f434aba8624e7377491e1",
            "066b7b431d2d4c3fa74c221a6521f8fc",
            "30c448b443fd466584c4b51fc4d63eb1",
            "717495f97af34df0b9c0e41e26a3a1ad",
            "58ec0e6b99cc46508c04a90854fca161",
            "112ccf19706d496c9e16cdda1d10c647",
            "1a9053342b334427a020d8ae0b5798d3",
            "40f96298f3684bf28bbe087843588d07",
            "7150b02ab6354f7d817b2fb20715977b"
          ]
        },
        "id": "NXZJng_hvV3H",
        "outputId": "24e9bfac-ee07-48b3-d7f9-2440a39d2668"
      },
      "source": [
        "# Load Wav2Vec from huggingface\n",
        "tokenizer = Wav2Vec2Tokenizer.from_pretrained(\"facebook/wav2vec2-base-960h\")\n",
        "model = Wav2Vec2ForCTC.from_pretrained(\"facebook/wav2vec2-base-960h\")"
      ],
      "execution_count": 6,
      "outputs": [
        {
          "output_type": "display_data",
          "data": {
            "application/vnd.jupyter.widget-view+json": {
              "model_id": "9b06d858258249ee9be6725be3b38e5f",
              "version_minor": 0,
              "version_major": 2
            },
            "text/plain": [
              "HBox(children=(FloatProgress(value=0.0, description='Downloading', max=291.0, style=ProgressStyle(description_…"
            ]
          },
          "metadata": {
            "tags": []
          }
        },
        {
          "output_type": "stream",
          "text": [
            "\n"
          ],
          "name": "stdout"
        },
        {
          "output_type": "display_data",
          "data": {
            "application/vnd.jupyter.widget-view+json": {
              "model_id": "a6b4bf675b0f4cd190bb474ce897c5c0",
              "version_minor": 0,
              "version_major": 2
            },
            "text/plain": [
              "HBox(children=(FloatProgress(value=0.0, description='Downloading', max=163.0, style=ProgressStyle(description_…"
            ]
          },
          "metadata": {
            "tags": []
          }
        },
        {
          "output_type": "stream",
          "text": [
            "\n"
          ],
          "name": "stdout"
        },
        {
          "output_type": "display_data",
          "data": {
            "application/vnd.jupyter.widget-view+json": {
              "model_id": "a8f036127aab4a47ab4456a2f96b33ee",
              "version_minor": 0,
              "version_major": 2
            },
            "text/plain": [
              "HBox(children=(FloatProgress(value=0.0, description='Downloading', max=85.0, style=ProgressStyle(description_w…"
            ]
          },
          "metadata": {
            "tags": []
          }
        },
        {
          "output_type": "stream",
          "text": [
            "\n"
          ],
          "name": "stdout"
        },
        {
          "output_type": "display_data",
          "data": {
            "application/vnd.jupyter.widget-view+json": {
              "model_id": "448028d704504add9e589e83d8f70898",
              "version_minor": 0,
              "version_major": 2
            },
            "text/plain": [
              "HBox(children=(FloatProgress(value=0.0, description='Downloading', max=843.0, style=ProgressStyle(description_…"
            ]
          },
          "metadata": {
            "tags": []
          }
        },
        {
          "output_type": "stream",
          "text": [
            "\n"
          ],
          "name": "stdout"
        },
        {
          "output_type": "display_data",
          "data": {
            "application/vnd.jupyter.widget-view+json": {
              "model_id": "066b7b431d2d4c3fa74c221a6521f8fc",
              "version_minor": 0,
              "version_major": 2
            },
            "text/plain": [
              "HBox(children=(FloatProgress(value=0.0, description='Downloading', max=377667514.0, style=ProgressStyle(descri…"
            ]
          },
          "metadata": {
            "tags": []
          }
        },
        {
          "output_type": "stream",
          "text": [
            "\n"
          ],
          "name": "stdout"
        },
        {
          "output_type": "stream",
          "text": [
            "Some weights of Wav2Vec2ForCTC were not initialized from the model checkpoint at facebook/wav2vec2-base-960h and are newly initialized: ['wav2vec2.masked_spec_embed']\n",
            "You should probably TRAIN this model on a down-stream task to be able to use it for predictions and inference.\n"
          ],
          "name": "stderr"
        }
      ]
    },
    {
      "cell_type": "markdown",
      "metadata": {
        "id": "P98J77f6tbD2"
      },
      "source": [
        "## Extract Audio\n",
        "\n",
        "---"
      ]
    },
    {
      "cell_type": "markdown",
      "metadata": {
        "id": "crEfXw7tvl35"
      },
      "source": [
        "First we'll extract the audio in mp3 format from the clip, as the Wav2Vec models expects audio input. We do this in subclips of 10 second length to save some memory lateron. "
      ]
    },
    {
      "cell_type": "code",
      "metadata": {
        "colab": {
          "base_uri": "https://localhost:8080/"
        },
        "id": "a6Df9DuWvG57",
        "outputId": "66eeba3f-059a-48b5-8e8c-acddc360d223"
      },
      "source": [
        "clip = mp.VideoFileClip(\"clip.mp4\")\n",
        "end = min(clip.duration, end)\n",
        "\n",
        "# Save the paths for later\n",
        "clip_paths = []\n",
        "\n",
        "# Extract Audio-only from mp4\n",
        "for i in range(start, int(end), 10):\n",
        "  sub_end = min(i+10, end)\n",
        "  sub_clip = clip.subclip(i,sub_end)\n",
        "\n",
        "  sub_clip.audio.write_audiofile(\"audio_\" + str(i) + \".mp3\")\n",
        "  clip_paths.append(\"audio_\" + str(i) + \".mp3\")"
      ],
      "execution_count": 7,
      "outputs": [
        {
          "output_type": "stream",
          "text": [
            "[MoviePy] Writing audio in audio_1.mp3\n"
          ],
          "name": "stdout"
        },
        {
          "output_type": "stream",
          "text": [
            "100%|██████████| 67/67 [00:00<00:00, 620.82it/s]"
          ],
          "name": "stderr"
        },
        {
          "output_type": "stream",
          "text": [
            "[MoviePy] Done.\n"
          ],
          "name": "stdout"
        },
        {
          "output_type": "stream",
          "text": [
            "\n"
          ],
          "name": "stderr"
        }
      ]
    },
    {
      "cell_type": "code",
      "metadata": {
        "colab": {
          "base_uri": "https://localhost:8080/",
          "height": 75
        },
        "id": "eAUMoKrbzVWy",
        "outputId": "29cb1fdf-b900-417e-e540-f3a9793f0877"
      },
      "source": [
        "# Play Audio \n",
        "Audio(clip_paths[0])"
      ],
      "execution_count": 10,
      "outputs": [
        {
          "output_type": "execute_result",
          "data": {
            "text/html": [
              "\n",
              "                <audio controls=\"controls\" >\n",
              "                    <source src=\"data:audio/mpeg;base64,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\" type=\"audio/mpeg\" />\n",
              "                    Your browser does not support the audio element.\n",
              "                </audio>\n",
              "              "
            ],
            "text/plain": [
              "<IPython.lib.display.Audio object>"
            ]
          },
          "metadata": {
            "tags": []
          },
          "execution_count": 10
        }
      ]
    },
    {
      "cell_type": "markdown",
      "metadata": {
        "id": "Fnr7uduAwMeT"
      },
      "source": [
        "## Transcribe Audio\n",
        "\n",
        "---"
      ]
    },
    {
      "cell_type": "markdown",
      "metadata": {
        "id": "iYwp2dJ9wP9E"
      },
      "source": [
        "The last step is turning the Audio into text! The Wav2Vec model does most of the job here for us. We do each 10-second clip one-by-one to save memory."
      ]
    },
    {
      "cell_type": "code",
      "metadata": {
        "id": "yRyfVsqeslc-"
      },
      "source": [
        "cc = \"\"\n",
        "\n",
        "for path in clip_paths:\n",
        "    # Load the audio with the librosa library\n",
        "    input_audio, _ = librosa.load(path, \n",
        "                                sr=16000)\n",
        "\n",
        "    # Tokenize the audio\n",
        "    input_values = tokenizer(input_audio, return_tensors=\"pt\", padding=\"longest\").input_values\n",
        "\n",
        "    # Feed it through Wav2Vec & choose the most probable tokens\n",
        "    with torch.no_grad():\n",
        "      logits = model(input_values).logits\n",
        "      predicted_ids = torch.argmax(logits, dim=-1)\n",
        "\n",
        "    # Decode & add to our caption string\n",
        "    transcription = tokenizer.batch_decode(predicted_ids)[0]\n",
        "    cc += transcription + \" \""
      ],
      "execution_count": 13,
      "outputs": []
    },
    {
      "cell_type": "code",
      "metadata": {
        "colab": {
          "base_uri": "https://localhost:8080/"
        },
        "id": "nzE6ZCHswxJZ",
        "outputId": "05aaca8d-fc35-461a-e7fb-7ecbe1d60f75"
      },
      "source": [
        "# Here's your caption!\n",
        "# Note that there may be mistakes especially if the audio is noisy or there are uncommon words\n",
        "# If you picked the default video and change start to 0, you will see that the model gets confused by the word \"Anakin\"\n",
        "print(cc)"
      ],
      "execution_count": 9,
      "outputs": [
        {
          "output_type": "stream",
          "text": [
            "I HAVE THE HIGH GROUND \n"
          ],
          "name": "stdout"
        }
      ]
    }
  ]
}