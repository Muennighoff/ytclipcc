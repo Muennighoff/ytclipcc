{
  "nbformat": 4,
  "nbformat_minor": 0,
  "metadata": {
    "colab": {
      "name": "Untitled3.ipynb",
      "provenance": []
    },
    "kernelspec": {
      "name": "python3",
      "display_name": "Python 3"
    },
    "language_info": {
      "name": "python"
    },
    "widgets": {
      "application/vnd.jupyter.widget-state+json": {
        "829f0ba134194d938ee5073a949a0356": {
          "model_module": "@jupyter-widgets/controls",
          "model_name": "HBoxModel",
          "state": {
            "_view_name": "HBoxView",
            "_dom_classes": [],
            "_model_name": "HBoxModel",
            "_view_module": "@jupyter-widgets/controls",
            "_model_module_version": "1.5.0",
            "_view_count": null,
            "_view_module_version": "1.5.0",
            "box_style": "",
            "layout": "IPY_MODEL_a4b839a890184572a17082f199c56c3e",
            "_model_module": "@jupyter-widgets/controls",
            "children": [
              "IPY_MODEL_d160fc0d09d84ee8b844773d6ec63483",
              "IPY_MODEL_eab3d102ffdf46c08314f3a0a959d8e7"
            ]
          }
        },
        "a4b839a890184572a17082f199c56c3e": {
          "model_module": "@jupyter-widgets/base",
          "model_name": "LayoutModel",
          "state": {
            "_view_name": "LayoutView",
            "grid_template_rows": null,
            "right": null,
            "justify_content": null,
            "_view_module": "@jupyter-widgets/base",
            "overflow": null,
            "_model_module_version": "1.2.0",
            "_view_count": null,
            "flex_flow": null,
            "width": null,
            "min_width": null,
            "border": null,
            "align_items": null,
            "bottom": null,
            "_model_module": "@jupyter-widgets/base",
            "top": null,
            "grid_column": null,
            "overflow_y": null,
            "overflow_x": null,
            "grid_auto_flow": null,
            "grid_area": null,
            "grid_template_columns": null,
            "flex": null,
            "_model_name": "LayoutModel",
            "justify_items": null,
            "grid_row": null,
            "max_height": null,
            "align_content": null,
            "visibility": null,
            "align_self": null,
            "height": null,
            "min_height": null,
            "padding": null,
            "grid_auto_rows": null,
            "grid_gap": null,
            "max_width": null,
            "order": null,
            "_view_module_version": "1.2.0",
            "grid_template_areas": null,
            "object_position": null,
            "object_fit": null,
            "grid_auto_columns": null,
            "margin": null,
            "display": null,
            "left": null
          }
        },
        "d160fc0d09d84ee8b844773d6ec63483": {
          "model_module": "@jupyter-widgets/controls",
          "model_name": "FloatProgressModel",
          "state": {
            "_view_name": "ProgressView",
            "style": "IPY_MODEL_0c57a2fbbdf245b79c9559af1d391415",
            "_dom_classes": [],
            "description": "Downloading: 100%",
            "_model_name": "FloatProgressModel",
            "bar_style": "success",
            "max": 291,
            "_view_module": "@jupyter-widgets/controls",
            "_model_module_version": "1.5.0",
            "value": 291,
            "_view_count": null,
            "_view_module_version": "1.5.0",
            "orientation": "horizontal",
            "min": 0,
            "description_tooltip": null,
            "_model_module": "@jupyter-widgets/controls",
            "layout": "IPY_MODEL_6a73e8fa6a44412082e37f8ce0a2f68f"
          }
        },
        "eab3d102ffdf46c08314f3a0a959d8e7": {
          "model_module": "@jupyter-widgets/controls",
          "model_name": "HTMLModel",
          "state": {
            "_view_name": "HTMLView",
            "style": "IPY_MODEL_a108323ab915483abbff33ee0300d552",
            "_dom_classes": [],
            "description": "",
            "_model_name": "HTMLModel",
            "placeholder": "​",
            "_view_module": "@jupyter-widgets/controls",
            "_model_module_version": "1.5.0",
            "value": " 291/291 [00:00&lt;00:00, 484B/s]",
            "_view_count": null,
            "_view_module_version": "1.5.0",
            "description_tooltip": null,
            "_model_module": "@jupyter-widgets/controls",
            "layout": "IPY_MODEL_5a9f7b41e87c40ed8e0fc2cba9980e8b"
          }
        },
        "0c57a2fbbdf245b79c9559af1d391415": {
          "model_module": "@jupyter-widgets/controls",
          "model_name": "ProgressStyleModel",
          "state": {
            "_view_name": "StyleView",
            "_model_name": "ProgressStyleModel",
            "description_width": "initial",
            "_view_module": "@jupyter-widgets/base",
            "_model_module_version": "1.5.0",
            "_view_count": null,
            "_view_module_version": "1.2.0",
            "bar_color": null,
            "_model_module": "@jupyter-widgets/controls"
          }
        },
        "6a73e8fa6a44412082e37f8ce0a2f68f": {
          "model_module": "@jupyter-widgets/base",
          "model_name": "LayoutModel",
          "state": {
            "_view_name": "LayoutView",
            "grid_template_rows": null,
            "right": null,
            "justify_content": null,
            "_view_module": "@jupyter-widgets/base",
            "overflow": null,
            "_model_module_version": "1.2.0",
            "_view_count": null,
            "flex_flow": null,
            "width": null,
            "min_width": null,
            "border": null,
            "align_items": null,
            "bottom": null,
            "_model_module": "@jupyter-widgets/base",
            "top": null,
            "grid_column": null,
            "overflow_y": null,
            "overflow_x": null,
            "grid_auto_flow": null,
            "grid_area": null,
            "grid_template_columns": null,
            "flex": null,
            "_model_name": "LayoutModel",
            "justify_items": null,
            "grid_row": null,
            "max_height": null,
            "align_content": null,
            "visibility": null,
            "align_self": null,
            "height": null,
            "min_height": null,
            "padding": null,
            "grid_auto_rows": null,
            "grid_gap": null,
            "max_width": null,
            "order": null,
            "_view_module_version": "1.2.0",
            "grid_template_areas": null,
            "object_position": null,
            "object_fit": null,
            "grid_auto_columns": null,
            "margin": null,
            "display": null,
            "left": null
          }
        },
        "a108323ab915483abbff33ee0300d552": {
          "model_module": "@jupyter-widgets/controls",
          "model_name": "DescriptionStyleModel",
          "state": {
            "_view_name": "StyleView",
            "_model_name": "DescriptionStyleModel",
            "description_width": "",
            "_view_module": "@jupyter-widgets/base",
            "_model_module_version": "1.5.0",
            "_view_count": null,
            "_view_module_version": "1.2.0",
            "_model_module": "@jupyter-widgets/controls"
          }
        },
        "5a9f7b41e87c40ed8e0fc2cba9980e8b": {
          "model_module": "@jupyter-widgets/base",
          "model_name": "LayoutModel",
          "state": {
            "_view_name": "LayoutView",
            "grid_template_rows": null,
            "right": null,
            "justify_content": null,
            "_view_module": "@jupyter-widgets/base",
            "overflow": null,
            "_model_module_version": "1.2.0",
            "_view_count": null,
            "flex_flow": null,
            "width": null,
            "min_width": null,
            "border": null,
            "align_items": null,
            "bottom": null,
            "_model_module": "@jupyter-widgets/base",
            "top": null,
            "grid_column": null,
            "overflow_y": null,
            "overflow_x": null,
            "grid_auto_flow": null,
            "grid_area": null,
            "grid_template_columns": null,
            "flex": null,
            "_model_name": "LayoutModel",
            "justify_items": null,
            "grid_row": null,
            "max_height": null,
            "align_content": null,
            "visibility": null,
            "align_self": null,
            "height": null,
            "min_height": null,
            "padding": null,
            "grid_auto_rows": null,
            "grid_gap": null,
            "max_width": null,
            "order": null,
            "_view_module_version": "1.2.0",
            "grid_template_areas": null,
            "object_position": null,
            "object_fit": null,
            "grid_auto_columns": null,
            "margin": null,
            "display": null,
            "left": null
          }
        },
        "378d1964513c4f39a38cbd67aac1e982": {
          "model_module": "@jupyter-widgets/controls",
          "model_name": "HBoxModel",
          "state": {
            "_view_name": "HBoxView",
            "_dom_classes": [],
            "_model_name": "HBoxModel",
            "_view_module": "@jupyter-widgets/controls",
            "_model_module_version": "1.5.0",
            "_view_count": null,
            "_view_module_version": "1.5.0",
            "box_style": "",
            "layout": "IPY_MODEL_35e383590f49457fb4ac42f718239339",
            "_model_module": "@jupyter-widgets/controls",
            "children": [
              "IPY_MODEL_7afc69793ff74cdc86016cac1b9df3c9",
              "IPY_MODEL_cc2a8f54b5ff47f4b8dbc978d155fe34"
            ]
          }
        },
        "35e383590f49457fb4ac42f718239339": {
          "model_module": "@jupyter-widgets/base",
          "model_name": "LayoutModel",
          "state": {
            "_view_name": "LayoutView",
            "grid_template_rows": null,
            "right": null,
            "justify_content": null,
            "_view_module": "@jupyter-widgets/base",
            "overflow": null,
            "_model_module_version": "1.2.0",
            "_view_count": null,
            "flex_flow": null,
            "width": null,
            "min_width": null,
            "border": null,
            "align_items": null,
            "bottom": null,
            "_model_module": "@jupyter-widgets/base",
            "top": null,
            "grid_column": null,
            "overflow_y": null,
            "overflow_x": null,
            "grid_auto_flow": null,
            "grid_area": null,
            "grid_template_columns": null,
            "flex": null,
            "_model_name": "LayoutModel",
            "justify_items": null,
            "grid_row": null,
            "max_height": null,
            "align_content": null,
            "visibility": null,
            "align_self": null,
            "height": null,
            "min_height": null,
            "padding": null,
            "grid_auto_rows": null,
            "grid_gap": null,
            "max_width": null,
            "order": null,
            "_view_module_version": "1.2.0",
            "grid_template_areas": null,
            "object_position": null,
            "object_fit": null,
            "grid_auto_columns": null,
            "margin": null,
            "display": null,
            "left": null
          }
        },
        "7afc69793ff74cdc86016cac1b9df3c9": {
          "model_module": "@jupyter-widgets/controls",
          "model_name": "FloatProgressModel",
          "state": {
            "_view_name": "ProgressView",
            "style": "IPY_MODEL_d132d19bc6514bf3a8a416277cc38f73",
            "_dom_classes": [],
            "description": "Downloading: 100%",
            "_model_name": "FloatProgressModel",
            "bar_style": "success",
            "max": 163,
            "_view_module": "@jupyter-widgets/controls",
            "_model_module_version": "1.5.0",
            "value": 163,
            "_view_count": null,
            "_view_module_version": "1.5.0",
            "orientation": "horizontal",
            "min": 0,
            "description_tooltip": null,
            "_model_module": "@jupyter-widgets/controls",
            "layout": "IPY_MODEL_9257e052bb9f4a7683394fd882ba9098"
          }
        },
        "cc2a8f54b5ff47f4b8dbc978d155fe34": {
          "model_module": "@jupyter-widgets/controls",
          "model_name": "HTMLModel",
          "state": {
            "_view_name": "HTMLView",
            "style": "IPY_MODEL_894b1a83b3ce4a8a9c5b03ac877df6b0",
            "_dom_classes": [],
            "description": "",
            "_model_name": "HTMLModel",
            "placeholder": "​",
            "_view_module": "@jupyter-widgets/controls",
            "_model_module_version": "1.5.0",
            "value": " 163/163 [00:20&lt;00:00, 8.11B/s]",
            "_view_count": null,
            "_view_module_version": "1.5.0",
            "description_tooltip": null,
            "_model_module": "@jupyter-widgets/controls",
            "layout": "IPY_MODEL_c5f3c21d08b64f8bb34960bad18e5ed1"
          }
        },
        "d132d19bc6514bf3a8a416277cc38f73": {
          "model_module": "@jupyter-widgets/controls",
          "model_name": "ProgressStyleModel",
          "state": {
            "_view_name": "StyleView",
            "_model_name": "ProgressStyleModel",
            "description_width": "initial",
            "_view_module": "@jupyter-widgets/base",
            "_model_module_version": "1.5.0",
            "_view_count": null,
            "_view_module_version": "1.2.0",
            "bar_color": null,
            "_model_module": "@jupyter-widgets/controls"
          }
        },
        "9257e052bb9f4a7683394fd882ba9098": {
          "model_module": "@jupyter-widgets/base",
          "model_name": "LayoutModel",
          "state": {
            "_view_name": "LayoutView",
            "grid_template_rows": null,
            "right": null,
            "justify_content": null,
            "_view_module": "@jupyter-widgets/base",
            "overflow": null,
            "_model_module_version": "1.2.0",
            "_view_count": null,
            "flex_flow": null,
            "width": null,
            "min_width": null,
            "border": null,
            "align_items": null,
            "bottom": null,
            "_model_module": "@jupyter-widgets/base",
            "top": null,
            "grid_column": null,
            "overflow_y": null,
            "overflow_x": null,
            "grid_auto_flow": null,
            "grid_area": null,
            "grid_template_columns": null,
            "flex": null,
            "_model_name": "LayoutModel",
            "justify_items": null,
            "grid_row": null,
            "max_height": null,
            "align_content": null,
            "visibility": null,
            "align_self": null,
            "height": null,
            "min_height": null,
            "padding": null,
            "grid_auto_rows": null,
            "grid_gap": null,
            "max_width": null,
            "order": null,
            "_view_module_version": "1.2.0",
            "grid_template_areas": null,
            "object_position": null,
            "object_fit": null,
            "grid_auto_columns": null,
            "margin": null,
            "display": null,
            "left": null
          }
        },
        "894b1a83b3ce4a8a9c5b03ac877df6b0": {
          "model_module": "@jupyter-widgets/controls",
          "model_name": "DescriptionStyleModel",
          "state": {
            "_view_name": "StyleView",
            "_model_name": "DescriptionStyleModel",
            "description_width": "",
            "_view_module": "@jupyter-widgets/base",
            "_model_module_version": "1.5.0",
            "_view_count": null,
            "_view_module_version": "1.2.0",
            "_model_module": "@jupyter-widgets/controls"
          }
        },
        "c5f3c21d08b64f8bb34960bad18e5ed1": {
          "model_module": "@jupyter-widgets/base",
          "model_name": "LayoutModel",
          "state": {
            "_view_name": "LayoutView",
            "grid_template_rows": null,
            "right": null,
            "justify_content": null,
            "_view_module": "@jupyter-widgets/base",
            "overflow": null,
            "_model_module_version": "1.2.0",
            "_view_count": null,
            "flex_flow": null,
            "width": null,
            "min_width": null,
            "border": null,
            "align_items": null,
            "bottom": null,
            "_model_module": "@jupyter-widgets/base",
            "top": null,
            "grid_column": null,
            "overflow_y": null,
            "overflow_x": null,
            "grid_auto_flow": null,
            "grid_area": null,
            "grid_template_columns": null,
            "flex": null,
            "_model_name": "LayoutModel",
            "justify_items": null,
            "grid_row": null,
            "max_height": null,
            "align_content": null,
            "visibility": null,
            "align_self": null,
            "height": null,
            "min_height": null,
            "padding": null,
            "grid_auto_rows": null,
            "grid_gap": null,
            "max_width": null,
            "order": null,
            "_view_module_version": "1.2.0",
            "grid_template_areas": null,
            "object_position": null,
            "object_fit": null,
            "grid_auto_columns": null,
            "margin": null,
            "display": null,
            "left": null
          }
        },
        "52eefaf454e74724ba23ec5e4047fc51": {
          "model_module": "@jupyter-widgets/controls",
          "model_name": "HBoxModel",
          "state": {
            "_view_name": "HBoxView",
            "_dom_classes": [],
            "_model_name": "HBoxModel",
            "_view_module": "@jupyter-widgets/controls",
            "_model_module_version": "1.5.0",
            "_view_count": null,
            "_view_module_version": "1.5.0",
            "box_style": "",
            "layout": "IPY_MODEL_120eb5e73f8a473b9c63bca2b682ffeb",
            "_model_module": "@jupyter-widgets/controls",
            "children": [
              "IPY_MODEL_13178198a584422bab813c6ff6d7d060",
              "IPY_MODEL_94c8a6a8855a4ca8869499b00b5e4093"
            ]
          }
        },
        "120eb5e73f8a473b9c63bca2b682ffeb": {
          "model_module": "@jupyter-widgets/base",
          "model_name": "LayoutModel",
          "state": {
            "_view_name": "LayoutView",
            "grid_template_rows": null,
            "right": null,
            "justify_content": null,
            "_view_module": "@jupyter-widgets/base",
            "overflow": null,
            "_model_module_version": "1.2.0",
            "_view_count": null,
            "flex_flow": null,
            "width": null,
            "min_width": null,
            "border": null,
            "align_items": null,
            "bottom": null,
            "_model_module": "@jupyter-widgets/base",
            "top": null,
            "grid_column": null,
            "overflow_y": null,
            "overflow_x": null,
            "grid_auto_flow": null,
            "grid_area": null,
            "grid_template_columns": null,
            "flex": null,
            "_model_name": "LayoutModel",
            "justify_items": null,
            "grid_row": null,
            "max_height": null,
            "align_content": null,
            "visibility": null,
            "align_self": null,
            "height": null,
            "min_height": null,
            "padding": null,
            "grid_auto_rows": null,
            "grid_gap": null,
            "max_width": null,
            "order": null,
            "_view_module_version": "1.2.0",
            "grid_template_areas": null,
            "object_position": null,
            "object_fit": null,
            "grid_auto_columns": null,
            "margin": null,
            "display": null,
            "left": null
          }
        },
        "13178198a584422bab813c6ff6d7d060": {
          "model_module": "@jupyter-widgets/controls",
          "model_name": "FloatProgressModel",
          "state": {
            "_view_name": "ProgressView",
            "style": "IPY_MODEL_d0027fc3c42c4b56974857036d920674",
            "_dom_classes": [],
            "description": "Downloading: 100%",
            "_model_name": "FloatProgressModel",
            "bar_style": "success",
            "max": 85,
            "_view_module": "@jupyter-widgets/controls",
            "_model_module_version": "1.5.0",
            "value": 85,
            "_view_count": null,
            "_view_module_version": "1.5.0",
            "orientation": "horizontal",
            "min": 0,
            "description_tooltip": null,
            "_model_module": "@jupyter-widgets/controls",
            "layout": "IPY_MODEL_816990ad62d64e95a5cad8fa6758b3fd"
          }
        },
        "94c8a6a8855a4ca8869499b00b5e4093": {
          "model_module": "@jupyter-widgets/controls",
          "model_name": "HTMLModel",
          "state": {
            "_view_name": "HTMLView",
            "style": "IPY_MODEL_677d335a967a4b53bb1eb1156200107a",
            "_dom_classes": [],
            "description": "",
            "_model_name": "HTMLModel",
            "placeholder": "​",
            "_view_module": "@jupyter-widgets/controls",
            "_model_module_version": "1.5.0",
            "value": " 85.0/85.0 [00:00&lt;00:00, 94.0B/s]",
            "_view_count": null,
            "_view_module_version": "1.5.0",
            "description_tooltip": null,
            "_model_module": "@jupyter-widgets/controls",
            "layout": "IPY_MODEL_34f1a78fd89c4d9792f6a87b550827b3"
          }
        },
        "d0027fc3c42c4b56974857036d920674": {
          "model_module": "@jupyter-widgets/controls",
          "model_name": "ProgressStyleModel",
          "state": {
            "_view_name": "StyleView",
            "_model_name": "ProgressStyleModel",
            "description_width": "initial",
            "_view_module": "@jupyter-widgets/base",
            "_model_module_version": "1.5.0",
            "_view_count": null,
            "_view_module_version": "1.2.0",
            "bar_color": null,
            "_model_module": "@jupyter-widgets/controls"
          }
        },
        "816990ad62d64e95a5cad8fa6758b3fd": {
          "model_module": "@jupyter-widgets/base",
          "model_name": "LayoutModel",
          "state": {
            "_view_name": "LayoutView",
            "grid_template_rows": null,
            "right": null,
            "justify_content": null,
            "_view_module": "@jupyter-widgets/base",
            "overflow": null,
            "_model_module_version": "1.2.0",
            "_view_count": null,
            "flex_flow": null,
            "width": null,
            "min_width": null,
            "border": null,
            "align_items": null,
            "bottom": null,
            "_model_module": "@jupyter-widgets/base",
            "top": null,
            "grid_column": null,
            "overflow_y": null,
            "overflow_x": null,
            "grid_auto_flow": null,
            "grid_area": null,
            "grid_template_columns": null,
            "flex": null,
            "_model_name": "LayoutModel",
            "justify_items": null,
            "grid_row": null,
            "max_height": null,
            "align_content": null,
            "visibility": null,
            "align_self": null,
            "height": null,
            "min_height": null,
            "padding": null,
            "grid_auto_rows": null,
            "grid_gap": null,
            "max_width": null,
            "order": null,
            "_view_module_version": "1.2.0",
            "grid_template_areas": null,
            "object_position": null,
            "object_fit": null,
            "grid_auto_columns": null,
            "margin": null,
            "display": null,
            "left": null
          }
        },
        "677d335a967a4b53bb1eb1156200107a": {
          "model_module": "@jupyter-widgets/controls",
          "model_name": "DescriptionStyleModel",
          "state": {
            "_view_name": "StyleView",
            "_model_name": "DescriptionStyleModel",
            "description_width": "",
            "_view_module": "@jupyter-widgets/base",
            "_model_module_version": "1.5.0",
            "_view_count": null,
            "_view_module_version": "1.2.0",
            "_model_module": "@jupyter-widgets/controls"
          }
        },
        "34f1a78fd89c4d9792f6a87b550827b3": {
          "model_module": "@jupyter-widgets/base",
          "model_name": "LayoutModel",
          "state": {
            "_view_name": "LayoutView",
            "grid_template_rows": null,
            "right": null,
            "justify_content": null,
            "_view_module": "@jupyter-widgets/base",
            "overflow": null,
            "_model_module_version": "1.2.0",
            "_view_count": null,
            "flex_flow": null,
            "width": null,
            "min_width": null,
            "border": null,
            "align_items": null,
            "bottom": null,
            "_model_module": "@jupyter-widgets/base",
            "top": null,
            "grid_column": null,
            "overflow_y": null,
            "overflow_x": null,
            "grid_auto_flow": null,
            "grid_area": null,
            "grid_template_columns": null,
            "flex": null,
            "_model_name": "LayoutModel",
            "justify_items": null,
            "grid_row": null,
            "max_height": null,
            "align_content": null,
            "visibility": null,
            "align_self": null,
            "height": null,
            "min_height": null,
            "padding": null,
            "grid_auto_rows": null,
            "grid_gap": null,
            "max_width": null,
            "order": null,
            "_view_module_version": "1.2.0",
            "grid_template_areas": null,
            "object_position": null,
            "object_fit": null,
            "grid_auto_columns": null,
            "margin": null,
            "display": null,
            "left": null
          }
        },
        "a0deee8ea34c4f7b8dbc6f41f711339a": {
          "model_module": "@jupyter-widgets/controls",
          "model_name": "HBoxModel",
          "state": {
            "_view_name": "HBoxView",
            "_dom_classes": [],
            "_model_name": "HBoxModel",
            "_view_module": "@jupyter-widgets/controls",
            "_model_module_version": "1.5.0",
            "_view_count": null,
            "_view_module_version": "1.5.0",
            "box_style": "",
            "layout": "IPY_MODEL_e4c8c371f94f4610bff0dc454e754719",
            "_model_module": "@jupyter-widgets/controls",
            "children": [
              "IPY_MODEL_6be5a2e324094f01a5ce6c1ff5fddf3b",
              "IPY_MODEL_9c80f6d4a24a4b26a69022283d47e070"
            ]
          }
        },
        "e4c8c371f94f4610bff0dc454e754719": {
          "model_module": "@jupyter-widgets/base",
          "model_name": "LayoutModel",
          "state": {
            "_view_name": "LayoutView",
            "grid_template_rows": null,
            "right": null,
            "justify_content": null,
            "_view_module": "@jupyter-widgets/base",
            "overflow": null,
            "_model_module_version": "1.2.0",
            "_view_count": null,
            "flex_flow": null,
            "width": null,
            "min_width": null,
            "border": null,
            "align_items": null,
            "bottom": null,
            "_model_module": "@jupyter-widgets/base",
            "top": null,
            "grid_column": null,
            "overflow_y": null,
            "overflow_x": null,
            "grid_auto_flow": null,
            "grid_area": null,
            "grid_template_columns": null,
            "flex": null,
            "_model_name": "LayoutModel",
            "justify_items": null,
            "grid_row": null,
            "max_height": null,
            "align_content": null,
            "visibility": null,
            "align_self": null,
            "height": null,
            "min_height": null,
            "padding": null,
            "grid_auto_rows": null,
            "grid_gap": null,
            "max_width": null,
            "order": null,
            "_view_module_version": "1.2.0",
            "grid_template_areas": null,
            "object_position": null,
            "object_fit": null,
            "grid_auto_columns": null,
            "margin": null,
            "display": null,
            "left": null
          }
        },
        "6be5a2e324094f01a5ce6c1ff5fddf3b": {
          "model_module": "@jupyter-widgets/controls",
          "model_name": "FloatProgressModel",
          "state": {
            "_view_name": "ProgressView",
            "style": "IPY_MODEL_aa2003c958444621ad4b2bf95dee39c5",
            "_dom_classes": [],
            "description": "Downloading: 100%",
            "_model_name": "FloatProgressModel",
            "bar_style": "success",
            "max": 843,
            "_view_module": "@jupyter-widgets/controls",
            "_model_module_version": "1.5.0",
            "value": 843,
            "_view_count": null,
            "_view_module_version": "1.5.0",
            "orientation": "horizontal",
            "min": 0,
            "description_tooltip": null,
            "_model_module": "@jupyter-widgets/controls",
            "layout": "IPY_MODEL_0da1133a19c442c7b4a459b86fdf57cc"
          }
        },
        "9c80f6d4a24a4b26a69022283d47e070": {
          "model_module": "@jupyter-widgets/controls",
          "model_name": "HTMLModel",
          "state": {
            "_view_name": "HTMLView",
            "style": "IPY_MODEL_97be2bb8c97e48c8bb0e3156ad48c499",
            "_dom_classes": [],
            "description": "",
            "_model_name": "HTMLModel",
            "placeholder": "​",
            "_view_module": "@jupyter-widgets/controls",
            "_model_module_version": "1.5.0",
            "value": " 843/843 [00:18&lt;00:00, 46.2B/s]",
            "_view_count": null,
            "_view_module_version": "1.5.0",
            "description_tooltip": null,
            "_model_module": "@jupyter-widgets/controls",
            "layout": "IPY_MODEL_4584f05000894abbac5e4d18cc5d0436"
          }
        },
        "aa2003c958444621ad4b2bf95dee39c5": {
          "model_module": "@jupyter-widgets/controls",
          "model_name": "ProgressStyleModel",
          "state": {
            "_view_name": "StyleView",
            "_model_name": "ProgressStyleModel",
            "description_width": "initial",
            "_view_module": "@jupyter-widgets/base",
            "_model_module_version": "1.5.0",
            "_view_count": null,
            "_view_module_version": "1.2.0",
            "bar_color": null,
            "_model_module": "@jupyter-widgets/controls"
          }
        },
        "0da1133a19c442c7b4a459b86fdf57cc": {
          "model_module": "@jupyter-widgets/base",
          "model_name": "LayoutModel",
          "state": {
            "_view_name": "LayoutView",
            "grid_template_rows": null,
            "right": null,
            "justify_content": null,
            "_view_module": "@jupyter-widgets/base",
            "overflow": null,
            "_model_module_version": "1.2.0",
            "_view_count": null,
            "flex_flow": null,
            "width": null,
            "min_width": null,
            "border": null,
            "align_items": null,
            "bottom": null,
            "_model_module": "@jupyter-widgets/base",
            "top": null,
            "grid_column": null,
            "overflow_y": null,
            "overflow_x": null,
            "grid_auto_flow": null,
            "grid_area": null,
            "grid_template_columns": null,
            "flex": null,
            "_model_name": "LayoutModel",
            "justify_items": null,
            "grid_row": null,
            "max_height": null,
            "align_content": null,
            "visibility": null,
            "align_self": null,
            "height": null,
            "min_height": null,
            "padding": null,
            "grid_auto_rows": null,
            "grid_gap": null,
            "max_width": null,
            "order": null,
            "_view_module_version": "1.2.0",
            "grid_template_areas": null,
            "object_position": null,
            "object_fit": null,
            "grid_auto_columns": null,
            "margin": null,
            "display": null,
            "left": null
          }
        },
        "97be2bb8c97e48c8bb0e3156ad48c499": {
          "model_module": "@jupyter-widgets/controls",
          "model_name": "DescriptionStyleModel",
          "state": {
            "_view_name": "StyleView",
            "_model_name": "DescriptionStyleModel",
            "description_width": "",
            "_view_module": "@jupyter-widgets/base",
            "_model_module_version": "1.5.0",
            "_view_count": null,
            "_view_module_version": "1.2.0",
            "_model_module": "@jupyter-widgets/controls"
          }
        },
        "4584f05000894abbac5e4d18cc5d0436": {
          "model_module": "@jupyter-widgets/base",
          "model_name": "LayoutModel",
          "state": {
            "_view_name": "LayoutView",
            "grid_template_rows": null,
            "right": null,
            "justify_content": null,
            "_view_module": "@jupyter-widgets/base",
            "overflow": null,
            "_model_module_version": "1.2.0",
            "_view_count": null,
            "flex_flow": null,
            "width": null,
            "min_width": null,
            "border": null,
            "align_items": null,
            "bottom": null,
            "_model_module": "@jupyter-widgets/base",
            "top": null,
            "grid_column": null,
            "overflow_y": null,
            "overflow_x": null,
            "grid_auto_flow": null,
            "grid_area": null,
            "grid_template_columns": null,
            "flex": null,
            "_model_name": "LayoutModel",
            "justify_items": null,
            "grid_row": null,
            "max_height": null,
            "align_content": null,
            "visibility": null,
            "align_self": null,
            "height": null,
            "min_height": null,
            "padding": null,
            "grid_auto_rows": null,
            "grid_gap": null,
            "max_width": null,
            "order": null,
            "_view_module_version": "1.2.0",
            "grid_template_areas": null,
            "object_position": null,
            "object_fit": null,
            "grid_auto_columns": null,
            "margin": null,
            "display": null,
            "left": null
          }
        },
        "5e479b4fcfaf416eb72723574de0484d": {
          "model_module": "@jupyter-widgets/controls",
          "model_name": "HBoxModel",
          "state": {
            "_view_name": "HBoxView",
            "_dom_classes": [],
            "_model_name": "HBoxModel",
            "_view_module": "@jupyter-widgets/controls",
            "_model_module_version": "1.5.0",
            "_view_count": null,
            "_view_module_version": "1.5.0",
            "box_style": "",
            "layout": "IPY_MODEL_fd1d6abceff14f00bdb384bb397d35e5",
            "_model_module": "@jupyter-widgets/controls",
            "children": [
              "IPY_MODEL_7b307249acdb478b9c6803545e145708",
              "IPY_MODEL_b62bf5071ea44e9aa16b695c1486ca15"
            ]
          }
        },
        "fd1d6abceff14f00bdb384bb397d35e5": {
          "model_module": "@jupyter-widgets/base",
          "model_name": "LayoutModel",
          "state": {
            "_view_name": "LayoutView",
            "grid_template_rows": null,
            "right": null,
            "justify_content": null,
            "_view_module": "@jupyter-widgets/base",
            "overflow": null,
            "_model_module_version": "1.2.0",
            "_view_count": null,
            "flex_flow": null,
            "width": null,
            "min_width": null,
            "border": null,
            "align_items": null,
            "bottom": null,
            "_model_module": "@jupyter-widgets/base",
            "top": null,
            "grid_column": null,
            "overflow_y": null,
            "overflow_x": null,
            "grid_auto_flow": null,
            "grid_area": null,
            "grid_template_columns": null,
            "flex": null,
            "_model_name": "LayoutModel",
            "justify_items": null,
            "grid_row": null,
            "max_height": null,
            "align_content": null,
            "visibility": null,
            "align_self": null,
            "height": null,
            "min_height": null,
            "padding": null,
            "grid_auto_rows": null,
            "grid_gap": null,
            "max_width": null,
            "order": null,
            "_view_module_version": "1.2.0",
            "grid_template_areas": null,
            "object_position": null,
            "object_fit": null,
            "grid_auto_columns": null,
            "margin": null,
            "display": null,
            "left": null
          }
        },
        "7b307249acdb478b9c6803545e145708": {
          "model_module": "@jupyter-widgets/controls",
          "model_name": "FloatProgressModel",
          "state": {
            "_view_name": "ProgressView",
            "style": "IPY_MODEL_38d601a5581e45d0b7689e212b0348d2",
            "_dom_classes": [],
            "description": "Downloading: 100%",
            "_model_name": "FloatProgressModel",
            "bar_style": "success",
            "max": 377667514,
            "_view_module": "@jupyter-widgets/controls",
            "_model_module_version": "1.5.0",
            "value": 377667514,
            "_view_count": null,
            "_view_module_version": "1.5.0",
            "orientation": "horizontal",
            "min": 0,
            "description_tooltip": null,
            "_model_module": "@jupyter-widgets/controls",
            "layout": "IPY_MODEL_21631f32016b4f0580d7a59eb74838a9"
          }
        },
        "b62bf5071ea44e9aa16b695c1486ca15": {
          "model_module": "@jupyter-widgets/controls",
          "model_name": "HTMLModel",
          "state": {
            "_view_name": "HTMLView",
            "style": "IPY_MODEL_49c0a3dd853b482485169c1f063046cc",
            "_dom_classes": [],
            "description": "",
            "_model_name": "HTMLModel",
            "placeholder": "​",
            "_view_module": "@jupyter-widgets/controls",
            "_model_module_version": "1.5.0",
            "value": " 378M/378M [00:13&lt;00:00, 27.7MB/s]",
            "_view_count": null,
            "_view_module_version": "1.5.0",
            "description_tooltip": null,
            "_model_module": "@jupyter-widgets/controls",
            "layout": "IPY_MODEL_032a24d1d44849b0952a9b386a08a363"
          }
        },
        "38d601a5581e45d0b7689e212b0348d2": {
          "model_module": "@jupyter-widgets/controls",
          "model_name": "ProgressStyleModel",
          "state": {
            "_view_name": "StyleView",
            "_model_name": "ProgressStyleModel",
            "description_width": "initial",
            "_view_module": "@jupyter-widgets/base",
            "_model_module_version": "1.5.0",
            "_view_count": null,
            "_view_module_version": "1.2.0",
            "bar_color": null,
            "_model_module": "@jupyter-widgets/controls"
          }
        },
        "21631f32016b4f0580d7a59eb74838a9": {
          "model_module": "@jupyter-widgets/base",
          "model_name": "LayoutModel",
          "state": {
            "_view_name": "LayoutView",
            "grid_template_rows": null,
            "right": null,
            "justify_content": null,
            "_view_module": "@jupyter-widgets/base",
            "overflow": null,
            "_model_module_version": "1.2.0",
            "_view_count": null,
            "flex_flow": null,
            "width": null,
            "min_width": null,
            "border": null,
            "align_items": null,
            "bottom": null,
            "_model_module": "@jupyter-widgets/base",
            "top": null,
            "grid_column": null,
            "overflow_y": null,
            "overflow_x": null,
            "grid_auto_flow": null,
            "grid_area": null,
            "grid_template_columns": null,
            "flex": null,
            "_model_name": "LayoutModel",
            "justify_items": null,
            "grid_row": null,
            "max_height": null,
            "align_content": null,
            "visibility": null,
            "align_self": null,
            "height": null,
            "min_height": null,
            "padding": null,
            "grid_auto_rows": null,
            "grid_gap": null,
            "max_width": null,
            "order": null,
            "_view_module_version": "1.2.0",
            "grid_template_areas": null,
            "object_position": null,
            "object_fit": null,
            "grid_auto_columns": null,
            "margin": null,
            "display": null,
            "left": null
          }
        },
        "49c0a3dd853b482485169c1f063046cc": {
          "model_module": "@jupyter-widgets/controls",
          "model_name": "DescriptionStyleModel",
          "state": {
            "_view_name": "StyleView",
            "_model_name": "DescriptionStyleModel",
            "description_width": "",
            "_view_module": "@jupyter-widgets/base",
            "_model_module_version": "1.5.0",
            "_view_count": null,
            "_view_module_version": "1.2.0",
            "_model_module": "@jupyter-widgets/controls"
          }
        },
        "032a24d1d44849b0952a9b386a08a363": {
          "model_module": "@jupyter-widgets/base",
          "model_name": "LayoutModel",
          "state": {
            "_view_name": "LayoutView",
            "grid_template_rows": null,
            "right": null,
            "justify_content": null,
            "_view_module": "@jupyter-widgets/base",
            "overflow": null,
            "_model_module_version": "1.2.0",
            "_view_count": null,
            "flex_flow": null,
            "width": null,
            "min_width": null,
            "border": null,
            "align_items": null,
            "bottom": null,
            "_model_module": "@jupyter-widgets/base",
            "top": null,
            "grid_column": null,
            "overflow_y": null,
            "overflow_x": null,
            "grid_auto_flow": null,
            "grid_area": null,
            "grid_template_columns": null,
            "flex": null,
            "_model_name": "LayoutModel",
            "justify_items": null,
            "grid_row": null,
            "max_height": null,
            "align_content": null,
            "visibility": null,
            "align_self": null,
            "height": null,
            "min_height": null,
            "padding": null,
            "grid_auto_rows": null,
            "grid_gap": null,
            "max_width": null,
            "order": null,
            "_view_module_version": "1.2.0",
            "grid_template_areas": null,
            "object_position": null,
            "object_fit": null,
            "grid_auto_columns": null,
            "margin": null,
            "display": null,
            "left": null
          }
        },
        "fd8d0bbbbc0b419596f4e41afcc0cdd7": {
          "model_module": "@jupyter-widgets/controls",
          "model_name": "HBoxModel",
          "state": {
            "_view_name": "HBoxView",
            "_dom_classes": [],
            "_model_name": "HBoxModel",
            "_view_module": "@jupyter-widgets/controls",
            "_model_module_version": "1.5.0",
            "_view_count": null,
            "_view_module_version": "1.5.0",
            "box_style": "",
            "layout": "IPY_MODEL_310def0a6a3e4e99b63c1a62d54bb638",
            "_model_module": "@jupyter-widgets/controls",
            "children": [
              "IPY_MODEL_401e57fcd07348af91a2b0f3b0e95688",
              "IPY_MODEL_25d9e672bd3e4380bb82be757a3cd4f3"
            ]
          }
        },
        "310def0a6a3e4e99b63c1a62d54bb638": {
          "model_module": "@jupyter-widgets/base",
          "model_name": "LayoutModel",
          "state": {
            "_view_name": "LayoutView",
            "grid_template_rows": null,
            "right": null,
            "justify_content": null,
            "_view_module": "@jupyter-widgets/base",
            "overflow": null,
            "_model_module_version": "1.2.0",
            "_view_count": null,
            "flex_flow": null,
            "width": null,
            "min_width": null,
            "border": null,
            "align_items": null,
            "bottom": null,
            "_model_module": "@jupyter-widgets/base",
            "top": null,
            "grid_column": null,
            "overflow_y": null,
            "overflow_x": null,
            "grid_auto_flow": null,
            "grid_area": null,
            "grid_template_columns": null,
            "flex": null,
            "_model_name": "LayoutModel",
            "justify_items": null,
            "grid_row": null,
            "max_height": null,
            "align_content": null,
            "visibility": null,
            "align_self": null,
            "height": null,
            "min_height": null,
            "padding": null,
            "grid_auto_rows": null,
            "grid_gap": null,
            "max_width": null,
            "order": null,
            "_view_module_version": "1.2.0",
            "grid_template_areas": null,
            "object_position": null,
            "object_fit": null,
            "grid_auto_columns": null,
            "margin": null,
            "display": null,
            "left": null
          }
        },
        "401e57fcd07348af91a2b0f3b0e95688": {
          "model_module": "@jupyter-widgets/controls",
          "model_name": "FloatProgressModel",
          "state": {
            "_view_name": "ProgressView",
            "style": "IPY_MODEL_22ff3846a77d46618693fea2131e0134",
            "_dom_classes": [],
            "description": "Downloading: 100%",
            "_model_name": "FloatProgressModel",
            "bar_style": "success",
            "max": 291,
            "_view_module": "@jupyter-widgets/controls",
            "_model_module_version": "1.5.0",
            "value": 291,
            "_view_count": null,
            "_view_module_version": "1.5.0",
            "orientation": "horizontal",
            "min": 0,
            "description_tooltip": null,
            "_model_module": "@jupyter-widgets/controls",
            "layout": "IPY_MODEL_772252a5d7ed4c1daefc03145f8c0e12"
          }
        },
        "25d9e672bd3e4380bb82be757a3cd4f3": {
          "model_module": "@jupyter-widgets/controls",
          "model_name": "HTMLModel",
          "state": {
            "_view_name": "HTMLView",
            "style": "IPY_MODEL_f951586d4fb94c5aa98567c498dee2bf",
            "_dom_classes": [],
            "description": "",
            "_model_name": "HTMLModel",
            "placeholder": "​",
            "_view_module": "@jupyter-widgets/controls",
            "_model_module_version": "1.5.0",
            "value": " 291/291 [00:00&lt;00:00, 8.03kB/s]",
            "_view_count": null,
            "_view_module_version": "1.5.0",
            "description_tooltip": null,
            "_model_module": "@jupyter-widgets/controls",
            "layout": "IPY_MODEL_ec0248a3cd434b7fb650aa5d312b9c37"
          }
        },
        "22ff3846a77d46618693fea2131e0134": {
          "model_module": "@jupyter-widgets/controls",
          "model_name": "ProgressStyleModel",
          "state": {
            "_view_name": "StyleView",
            "_model_name": "ProgressStyleModel",
            "description_width": "initial",
            "_view_module": "@jupyter-widgets/base",
            "_model_module_version": "1.5.0",
            "_view_count": null,
            "_view_module_version": "1.2.0",
            "bar_color": null,
            "_model_module": "@jupyter-widgets/controls"
          }
        },
        "772252a5d7ed4c1daefc03145f8c0e12": {
          "model_module": "@jupyter-widgets/base",
          "model_name": "LayoutModel",
          "state": {
            "_view_name": "LayoutView",
            "grid_template_rows": null,
            "right": null,
            "justify_content": null,
            "_view_module": "@jupyter-widgets/base",
            "overflow": null,
            "_model_module_version": "1.2.0",
            "_view_count": null,
            "flex_flow": null,
            "width": null,
            "min_width": null,
            "border": null,
            "align_items": null,
            "bottom": null,
            "_model_module": "@jupyter-widgets/base",
            "top": null,
            "grid_column": null,
            "overflow_y": null,
            "overflow_x": null,
            "grid_auto_flow": null,
            "grid_area": null,
            "grid_template_columns": null,
            "flex": null,
            "_model_name": "LayoutModel",
            "justify_items": null,
            "grid_row": null,
            "max_height": null,
            "align_content": null,
            "visibility": null,
            "align_self": null,
            "height": null,
            "min_height": null,
            "padding": null,
            "grid_auto_rows": null,
            "grid_gap": null,
            "max_width": null,
            "order": null,
            "_view_module_version": "1.2.0",
            "grid_template_areas": null,
            "object_position": null,
            "object_fit": null,
            "grid_auto_columns": null,
            "margin": null,
            "display": null,
            "left": null
          }
        },
        "f951586d4fb94c5aa98567c498dee2bf": {
          "model_module": "@jupyter-widgets/controls",
          "model_name": "DescriptionStyleModel",
          "state": {
            "_view_name": "StyleView",
            "_model_name": "DescriptionStyleModel",
            "description_width": "",
            "_view_module": "@jupyter-widgets/base",
            "_model_module_version": "1.5.0",
            "_view_count": null,
            "_view_module_version": "1.2.0",
            "_model_module": "@jupyter-widgets/controls"
          }
        },
        "ec0248a3cd434b7fb650aa5d312b9c37": {
          "model_module": "@jupyter-widgets/base",
          "model_name": "LayoutModel",
          "state": {
            "_view_name": "LayoutView",
            "grid_template_rows": null,
            "right": null,
            "justify_content": null,
            "_view_module": "@jupyter-widgets/base",
            "overflow": null,
            "_model_module_version": "1.2.0",
            "_view_count": null,
            "flex_flow": null,
            "width": null,
            "min_width": null,
            "border": null,
            "align_items": null,
            "bottom": null,
            "_model_module": "@jupyter-widgets/base",
            "top": null,
            "grid_column": null,
            "overflow_y": null,
            "overflow_x": null,
            "grid_auto_flow": null,
            "grid_area": null,
            "grid_template_columns": null,
            "flex": null,
            "_model_name": "LayoutModel",
            "justify_items": null,
            "grid_row": null,
            "max_height": null,
            "align_content": null,
            "visibility": null,
            "align_self": null,
            "height": null,
            "min_height": null,
            "padding": null,
            "grid_auto_rows": null,
            "grid_gap": null,
            "max_width": null,
            "order": null,
            "_view_module_version": "1.2.0",
            "grid_template_areas": null,
            "object_position": null,
            "object_fit": null,
            "grid_auto_columns": null,
            "margin": null,
            "display": null,
            "left": null
          }
        },
        "9935f6b44cef46a093e6524c7e4dc2d9": {
          "model_module": "@jupyter-widgets/controls",
          "model_name": "HBoxModel",
          "state": {
            "_view_name": "HBoxView",
            "_dom_classes": [],
            "_model_name": "HBoxModel",
            "_view_module": "@jupyter-widgets/controls",
            "_model_module_version": "1.5.0",
            "_view_count": null,
            "_view_module_version": "1.5.0",
            "box_style": "",
            "layout": "IPY_MODEL_5a35822299e34608b9cfbade2fbb3e40",
            "_model_module": "@jupyter-widgets/controls",
            "children": [
              "IPY_MODEL_2030ce4e810b4aee977531047a7dc681",
              "IPY_MODEL_b257d52aa20a4e3d900cd7ef93dbcd2e"
            ]
          }
        },
        "5a35822299e34608b9cfbade2fbb3e40": {
          "model_module": "@jupyter-widgets/base",
          "model_name": "LayoutModel",
          "state": {
            "_view_name": "LayoutView",
            "grid_template_rows": null,
            "right": null,
            "justify_content": null,
            "_view_module": "@jupyter-widgets/base",
            "overflow": null,
            "_model_module_version": "1.2.0",
            "_view_count": null,
            "flex_flow": null,
            "width": null,
            "min_width": null,
            "border": null,
            "align_items": null,
            "bottom": null,
            "_model_module": "@jupyter-widgets/base",
            "top": null,
            "grid_column": null,
            "overflow_y": null,
            "overflow_x": null,
            "grid_auto_flow": null,
            "grid_area": null,
            "grid_template_columns": null,
            "flex": null,
            "_model_name": "LayoutModel",
            "justify_items": null,
            "grid_row": null,
            "max_height": null,
            "align_content": null,
            "visibility": null,
            "align_self": null,
            "height": null,
            "min_height": null,
            "padding": null,
            "grid_auto_rows": null,
            "grid_gap": null,
            "max_width": null,
            "order": null,
            "_view_module_version": "1.2.0",
            "grid_template_areas": null,
            "object_position": null,
            "object_fit": null,
            "grid_auto_columns": null,
            "margin": null,
            "display": null,
            "left": null
          }
        },
        "2030ce4e810b4aee977531047a7dc681": {
          "model_module": "@jupyter-widgets/controls",
          "model_name": "FloatProgressModel",
          "state": {
            "_view_name": "ProgressView",
            "style": "IPY_MODEL_a4d9be73644448d18c10c0b053ad4516",
            "_dom_classes": [],
            "description": "Downloading: 100%",
            "_model_name": "FloatProgressModel",
            "bar_style": "success",
            "max": 163,
            "_view_module": "@jupyter-widgets/controls",
            "_model_module_version": "1.5.0",
            "value": 163,
            "_view_count": null,
            "_view_module_version": "1.5.0",
            "orientation": "horizontal",
            "min": 0,
            "description_tooltip": null,
            "_model_module": "@jupyter-widgets/controls",
            "layout": "IPY_MODEL_63e2384c200342e4a18fb289ec962eb8"
          }
        },
        "b257d52aa20a4e3d900cd7ef93dbcd2e": {
          "model_module": "@jupyter-widgets/controls",
          "model_name": "HTMLModel",
          "state": {
            "_view_name": "HTMLView",
            "style": "IPY_MODEL_53e101b7effd49468cf7fb4e2ade83fd",
            "_dom_classes": [],
            "description": "",
            "_model_name": "HTMLModel",
            "placeholder": "​",
            "_view_module": "@jupyter-widgets/controls",
            "_model_module_version": "1.5.0",
            "value": " 163/163 [00:01&lt;00:00, 121B/s]",
            "_view_count": null,
            "_view_module_version": "1.5.0",
            "description_tooltip": null,
            "_model_module": "@jupyter-widgets/controls",
            "layout": "IPY_MODEL_84f87693cf044357a5d91dc1b5c76b4d"
          }
        },
        "a4d9be73644448d18c10c0b053ad4516": {
          "model_module": "@jupyter-widgets/controls",
          "model_name": "ProgressStyleModel",
          "state": {
            "_view_name": "StyleView",
            "_model_name": "ProgressStyleModel",
            "description_width": "initial",
            "_view_module": "@jupyter-widgets/base",
            "_model_module_version": "1.5.0",
            "_view_count": null,
            "_view_module_version": "1.2.0",
            "bar_color": null,
            "_model_module": "@jupyter-widgets/controls"
          }
        },
        "63e2384c200342e4a18fb289ec962eb8": {
          "model_module": "@jupyter-widgets/base",
          "model_name": "LayoutModel",
          "state": {
            "_view_name": "LayoutView",
            "grid_template_rows": null,
            "right": null,
            "justify_content": null,
            "_view_module": "@jupyter-widgets/base",
            "overflow": null,
            "_model_module_version": "1.2.0",
            "_view_count": null,
            "flex_flow": null,
            "width": null,
            "min_width": null,
            "border": null,
            "align_items": null,
            "bottom": null,
            "_model_module": "@jupyter-widgets/base",
            "top": null,
            "grid_column": null,
            "overflow_y": null,
            "overflow_x": null,
            "grid_auto_flow": null,
            "grid_area": null,
            "grid_template_columns": null,
            "flex": null,
            "_model_name": "LayoutModel",
            "justify_items": null,
            "grid_row": null,
            "max_height": null,
            "align_content": null,
            "visibility": null,
            "align_self": null,
            "height": null,
            "min_height": null,
            "padding": null,
            "grid_auto_rows": null,
            "grid_gap": null,
            "max_width": null,
            "order": null,
            "_view_module_version": "1.2.0",
            "grid_template_areas": null,
            "object_position": null,
            "object_fit": null,
            "grid_auto_columns": null,
            "margin": null,
            "display": null,
            "left": null
          }
        },
        "53e101b7effd49468cf7fb4e2ade83fd": {
          "model_module": "@jupyter-widgets/controls",
          "model_name": "DescriptionStyleModel",
          "state": {
            "_view_name": "StyleView",
            "_model_name": "DescriptionStyleModel",
            "description_width": "",
            "_view_module": "@jupyter-widgets/base",
            "_model_module_version": "1.5.0",
            "_view_count": null,
            "_view_module_version": "1.2.0",
            "_model_module": "@jupyter-widgets/controls"
          }
        },
        "84f87693cf044357a5d91dc1b5c76b4d": {
          "model_module": "@jupyter-widgets/base",
          "model_name": "LayoutModel",
          "state": {
            "_view_name": "LayoutView",
            "grid_template_rows": null,
            "right": null,
            "justify_content": null,
            "_view_module": "@jupyter-widgets/base",
            "overflow": null,
            "_model_module_version": "1.2.0",
            "_view_count": null,
            "flex_flow": null,
            "width": null,
            "min_width": null,
            "border": null,
            "align_items": null,
            "bottom": null,
            "_model_module": "@jupyter-widgets/base",
            "top": null,
            "grid_column": null,
            "overflow_y": null,
            "overflow_x": null,
            "grid_auto_flow": null,
            "grid_area": null,
            "grid_template_columns": null,
            "flex": null,
            "_model_name": "LayoutModel",
            "justify_items": null,
            "grid_row": null,
            "max_height": null,
            "align_content": null,
            "visibility": null,
            "align_self": null,
            "height": null,
            "min_height": null,
            "padding": null,
            "grid_auto_rows": null,
            "grid_gap": null,
            "max_width": null,
            "order": null,
            "_view_module_version": "1.2.0",
            "grid_template_areas": null,
            "object_position": null,
            "object_fit": null,
            "grid_auto_columns": null,
            "margin": null,
            "display": null,
            "left": null
          }
        },
        "5ae0b7dd3da24d68b7a47c5a10acd6e0": {
          "model_module": "@jupyter-widgets/controls",
          "model_name": "HBoxModel",
          "state": {
            "_view_name": "HBoxView",
            "_dom_classes": [],
            "_model_name": "HBoxModel",
            "_view_module": "@jupyter-widgets/controls",
            "_model_module_version": "1.5.0",
            "_view_count": null,
            "_view_module_version": "1.5.0",
            "box_style": "",
            "layout": "IPY_MODEL_16ab1cfdceda4a9eba60104be96f4060",
            "_model_module": "@jupyter-widgets/controls",
            "children": [
              "IPY_MODEL_8d6b9e650a82422d9360d37764912b7f",
              "IPY_MODEL_0ab4b38c9c6a4240ae350e0f253c4317"
            ]
          }
        },
        "16ab1cfdceda4a9eba60104be96f4060": {
          "model_module": "@jupyter-widgets/base",
          "model_name": "LayoutModel",
          "state": {
            "_view_name": "LayoutView",
            "grid_template_rows": null,
            "right": null,
            "justify_content": null,
            "_view_module": "@jupyter-widgets/base",
            "overflow": null,
            "_model_module_version": "1.2.0",
            "_view_count": null,
            "flex_flow": null,
            "width": null,
            "min_width": null,
            "border": null,
            "align_items": null,
            "bottom": null,
            "_model_module": "@jupyter-widgets/base",
            "top": null,
            "grid_column": null,
            "overflow_y": null,
            "overflow_x": null,
            "grid_auto_flow": null,
            "grid_area": null,
            "grid_template_columns": null,
            "flex": null,
            "_model_name": "LayoutModel",
            "justify_items": null,
            "grid_row": null,
            "max_height": null,
            "align_content": null,
            "visibility": null,
            "align_self": null,
            "height": null,
            "min_height": null,
            "padding": null,
            "grid_auto_rows": null,
            "grid_gap": null,
            "max_width": null,
            "order": null,
            "_view_module_version": "1.2.0",
            "grid_template_areas": null,
            "object_position": null,
            "object_fit": null,
            "grid_auto_columns": null,
            "margin": null,
            "display": null,
            "left": null
          }
        },
        "8d6b9e650a82422d9360d37764912b7f": {
          "model_module": "@jupyter-widgets/controls",
          "model_name": "FloatProgressModel",
          "state": {
            "_view_name": "ProgressView",
            "style": "IPY_MODEL_1e5346e5e97849b991aacc6001522c99",
            "_dom_classes": [],
            "description": "Downloading: 100%",
            "_model_name": "FloatProgressModel",
            "bar_style": "success",
            "max": 85,
            "_view_module": "@jupyter-widgets/controls",
            "_model_module_version": "1.5.0",
            "value": 85,
            "_view_count": null,
            "_view_module_version": "1.5.0",
            "orientation": "horizontal",
            "min": 0,
            "description_tooltip": null,
            "_model_module": "@jupyter-widgets/controls",
            "layout": "IPY_MODEL_bf5a3df15748406590a6350bfbdc8439"
          }
        },
        "0ab4b38c9c6a4240ae350e0f253c4317": {
          "model_module": "@jupyter-widgets/controls",
          "model_name": "HTMLModel",
          "state": {
            "_view_name": "HTMLView",
            "style": "IPY_MODEL_4453270998d74e5aa34a1b106dd35ac0",
            "_dom_classes": [],
            "description": "",
            "_model_name": "HTMLModel",
            "placeholder": "​",
            "_view_module": "@jupyter-widgets/controls",
            "_model_module_version": "1.5.0",
            "value": " 85.0/85.0 [00:00&lt;00:00, 124B/s]",
            "_view_count": null,
            "_view_module_version": "1.5.0",
            "description_tooltip": null,
            "_model_module": "@jupyter-widgets/controls",
            "layout": "IPY_MODEL_2c15ae87d81646d38c5c46ab0273fc90"
          }
        },
        "1e5346e5e97849b991aacc6001522c99": {
          "model_module": "@jupyter-widgets/controls",
          "model_name": "ProgressStyleModel",
          "state": {
            "_view_name": "StyleView",
            "_model_name": "ProgressStyleModel",
            "description_width": "initial",
            "_view_module": "@jupyter-widgets/base",
            "_model_module_version": "1.5.0",
            "_view_count": null,
            "_view_module_version": "1.2.0",
            "bar_color": null,
            "_model_module": "@jupyter-widgets/controls"
          }
        },
        "bf5a3df15748406590a6350bfbdc8439": {
          "model_module": "@jupyter-widgets/base",
          "model_name": "LayoutModel",
          "state": {
            "_view_name": "LayoutView",
            "grid_template_rows": null,
            "right": null,
            "justify_content": null,
            "_view_module": "@jupyter-widgets/base",
            "overflow": null,
            "_model_module_version": "1.2.0",
            "_view_count": null,
            "flex_flow": null,
            "width": null,
            "min_width": null,
            "border": null,
            "align_items": null,
            "bottom": null,
            "_model_module": "@jupyter-widgets/base",
            "top": null,
            "grid_column": null,
            "overflow_y": null,
            "overflow_x": null,
            "grid_auto_flow": null,
            "grid_area": null,
            "grid_template_columns": null,
            "flex": null,
            "_model_name": "LayoutModel",
            "justify_items": null,
            "grid_row": null,
            "max_height": null,
            "align_content": null,
            "visibility": null,
            "align_self": null,
            "height": null,
            "min_height": null,
            "padding": null,
            "grid_auto_rows": null,
            "grid_gap": null,
            "max_width": null,
            "order": null,
            "_view_module_version": "1.2.0",
            "grid_template_areas": null,
            "object_position": null,
            "object_fit": null,
            "grid_auto_columns": null,
            "margin": null,
            "display": null,
            "left": null
          }
        },
        "4453270998d74e5aa34a1b106dd35ac0": {
          "model_module": "@jupyter-widgets/controls",
          "model_name": "DescriptionStyleModel",
          "state": {
            "_view_name": "StyleView",
            "_model_name": "DescriptionStyleModel",
            "description_width": "",
            "_view_module": "@jupyter-widgets/base",
            "_model_module_version": "1.5.0",
            "_view_count": null,
            "_view_module_version": "1.2.0",
            "_model_module": "@jupyter-widgets/controls"
          }
        },
        "2c15ae87d81646d38c5c46ab0273fc90": {
          "model_module": "@jupyter-widgets/base",
          "model_name": "LayoutModel",
          "state": {
            "_view_name": "LayoutView",
            "grid_template_rows": null,
            "right": null,
            "justify_content": null,
            "_view_module": "@jupyter-widgets/base",
            "overflow": null,
            "_model_module_version": "1.2.0",
            "_view_count": null,
            "flex_flow": null,
            "width": null,
            "min_width": null,
            "border": null,
            "align_items": null,
            "bottom": null,
            "_model_module": "@jupyter-widgets/base",
            "top": null,
            "grid_column": null,
            "overflow_y": null,
            "overflow_x": null,
            "grid_auto_flow": null,
            "grid_area": null,
            "grid_template_columns": null,
            "flex": null,
            "_model_name": "LayoutModel",
            "justify_items": null,
            "grid_row": null,
            "max_height": null,
            "align_content": null,
            "visibility": null,
            "align_self": null,
            "height": null,
            "min_height": null,
            "padding": null,
            "grid_auto_rows": null,
            "grid_gap": null,
            "max_width": null,
            "order": null,
            "_view_module_version": "1.2.0",
            "grid_template_areas": null,
            "object_position": null,
            "object_fit": null,
            "grid_auto_columns": null,
            "margin": null,
            "display": null,
            "left": null
          }
        },
        "b3277a593db74582bc660d6533faf0f9": {
          "model_module": "@jupyter-widgets/controls",
          "model_name": "HBoxModel",
          "state": {
            "_view_name": "HBoxView",
            "_dom_classes": [],
            "_model_name": "HBoxModel",
            "_view_module": "@jupyter-widgets/controls",
            "_model_module_version": "1.5.0",
            "_view_count": null,
            "_view_module_version": "1.5.0",
            "box_style": "",
            "layout": "IPY_MODEL_99cf340935d7481281be5bdd6400550b",
            "_model_module": "@jupyter-widgets/controls",
            "children": [
              "IPY_MODEL_8d0561126152485199f4472b27ba9413",
              "IPY_MODEL_72116cc832e840d996749177cf3417de"
            ]
          }
        },
        "99cf340935d7481281be5bdd6400550b": {
          "model_module": "@jupyter-widgets/base",
          "model_name": "LayoutModel",
          "state": {
            "_view_name": "LayoutView",
            "grid_template_rows": null,
            "right": null,
            "justify_content": null,
            "_view_module": "@jupyter-widgets/base",
            "overflow": null,
            "_model_module_version": "1.2.0",
            "_view_count": null,
            "flex_flow": null,
            "width": null,
            "min_width": null,
            "border": null,
            "align_items": null,
            "bottom": null,
            "_model_module": "@jupyter-widgets/base",
            "top": null,
            "grid_column": null,
            "overflow_y": null,
            "overflow_x": null,
            "grid_auto_flow": null,
            "grid_area": null,
            "grid_template_columns": null,
            "flex": null,
            "_model_name": "LayoutModel",
            "justify_items": null,
            "grid_row": null,
            "max_height": null,
            "align_content": null,
            "visibility": null,
            "align_self": null,
            "height": null,
            "min_height": null,
            "padding": null,
            "grid_auto_rows": null,
            "grid_gap": null,
            "max_width": null,
            "order": null,
            "_view_module_version": "1.2.0",
            "grid_template_areas": null,
            "object_position": null,
            "object_fit": null,
            "grid_auto_columns": null,
            "margin": null,
            "display": null,
            "left": null
          }
        },
        "8d0561126152485199f4472b27ba9413": {
          "model_module": "@jupyter-widgets/controls",
          "model_name": "FloatProgressModel",
          "state": {
            "_view_name": "ProgressView",
            "style": "IPY_MODEL_7a1746f9cb974c9f814abbdcacff7049",
            "_dom_classes": [],
            "description": "Downloading: 100%",
            "_model_name": "FloatProgressModel",
            "bar_style": "success",
            "max": 843,
            "_view_module": "@jupyter-widgets/controls",
            "_model_module_version": "1.5.0",
            "value": 843,
            "_view_count": null,
            "_view_module_version": "1.5.0",
            "orientation": "horizontal",
            "min": 0,
            "description_tooltip": null,
            "_model_module": "@jupyter-widgets/controls",
            "layout": "IPY_MODEL_7b4add559bd9453ea78abaea059b5257"
          }
        },
        "72116cc832e840d996749177cf3417de": {
          "model_module": "@jupyter-widgets/controls",
          "model_name": "HTMLModel",
          "state": {
            "_view_name": "HTMLView",
            "style": "IPY_MODEL_a08a1fad8aa94987893c812b4b26b674",
            "_dom_classes": [],
            "description": "",
            "_model_name": "HTMLModel",
            "placeholder": "​",
            "_view_module": "@jupyter-widgets/controls",
            "_model_module_version": "1.5.0",
            "value": " 843/843 [00:27&lt;00:00, 30.7B/s]",
            "_view_count": null,
            "_view_module_version": "1.5.0",
            "description_tooltip": null,
            "_model_module": "@jupyter-widgets/controls",
            "layout": "IPY_MODEL_b46d82f5b7764c9fb9ec9dcde7ea60ed"
          }
        },
        "7a1746f9cb974c9f814abbdcacff7049": {
          "model_module": "@jupyter-widgets/controls",
          "model_name": "ProgressStyleModel",
          "state": {
            "_view_name": "StyleView",
            "_model_name": "ProgressStyleModel",
            "description_width": "initial",
            "_view_module": "@jupyter-widgets/base",
            "_model_module_version": "1.5.0",
            "_view_count": null,
            "_view_module_version": "1.2.0",
            "bar_color": null,
            "_model_module": "@jupyter-widgets/controls"
          }
        },
        "7b4add559bd9453ea78abaea059b5257": {
          "model_module": "@jupyter-widgets/base",
          "model_name": "LayoutModel",
          "state": {
            "_view_name": "LayoutView",
            "grid_template_rows": null,
            "right": null,
            "justify_content": null,
            "_view_module": "@jupyter-widgets/base",
            "overflow": null,
            "_model_module_version": "1.2.0",
            "_view_count": null,
            "flex_flow": null,
            "width": null,
            "min_width": null,
            "border": null,
            "align_items": null,
            "bottom": null,
            "_model_module": "@jupyter-widgets/base",
            "top": null,
            "grid_column": null,
            "overflow_y": null,
            "overflow_x": null,
            "grid_auto_flow": null,
            "grid_area": null,
            "grid_template_columns": null,
            "flex": null,
            "_model_name": "LayoutModel",
            "justify_items": null,
            "grid_row": null,
            "max_height": null,
            "align_content": null,
            "visibility": null,
            "align_self": null,
            "height": null,
            "min_height": null,
            "padding": null,
            "grid_auto_rows": null,
            "grid_gap": null,
            "max_width": null,
            "order": null,
            "_view_module_version": "1.2.0",
            "grid_template_areas": null,
            "object_position": null,
            "object_fit": null,
            "grid_auto_columns": null,
            "margin": null,
            "display": null,
            "left": null
          }
        },
        "a08a1fad8aa94987893c812b4b26b674": {
          "model_module": "@jupyter-widgets/controls",
          "model_name": "DescriptionStyleModel",
          "state": {
            "_view_name": "StyleView",
            "_model_name": "DescriptionStyleModel",
            "description_width": "",
            "_view_module": "@jupyter-widgets/base",
            "_model_module_version": "1.5.0",
            "_view_count": null,
            "_view_module_version": "1.2.0",
            "_model_module": "@jupyter-widgets/controls"
          }
        },
        "b46d82f5b7764c9fb9ec9dcde7ea60ed": {
          "model_module": "@jupyter-widgets/base",
          "model_name": "LayoutModel",
          "state": {
            "_view_name": "LayoutView",
            "grid_template_rows": null,
            "right": null,
            "justify_content": null,
            "_view_module": "@jupyter-widgets/base",
            "overflow": null,
            "_model_module_version": "1.2.0",
            "_view_count": null,
            "flex_flow": null,
            "width": null,
            "min_width": null,
            "border": null,
            "align_items": null,
            "bottom": null,
            "_model_module": "@jupyter-widgets/base",
            "top": null,
            "grid_column": null,
            "overflow_y": null,
            "overflow_x": null,
            "grid_auto_flow": null,
            "grid_area": null,
            "grid_template_columns": null,
            "flex": null,
            "_model_name": "LayoutModel",
            "justify_items": null,
            "grid_row": null,
            "max_height": null,
            "align_content": null,
            "visibility": null,
            "align_self": null,
            "height": null,
            "min_height": null,
            "padding": null,
            "grid_auto_rows": null,
            "grid_gap": null,
            "max_width": null,
            "order": null,
            "_view_module_version": "1.2.0",
            "grid_template_areas": null,
            "object_position": null,
            "object_fit": null,
            "grid_auto_columns": null,
            "margin": null,
            "display": null,
            "left": null
          }
        },
        "7d723ec2ed3a4c8480c89ef8b831c067": {
          "model_module": "@jupyter-widgets/controls",
          "model_name": "HBoxModel",
          "state": {
            "_view_name": "HBoxView",
            "_dom_classes": [],
            "_model_name": "HBoxModel",
            "_view_module": "@jupyter-widgets/controls",
            "_model_module_version": "1.5.0",
            "_view_count": null,
            "_view_module_version": "1.5.0",
            "box_style": "",
            "layout": "IPY_MODEL_fc903d837bfd45ceacd0bf020c03c89a",
            "_model_module": "@jupyter-widgets/controls",
            "children": [
              "IPY_MODEL_d0f2f0c36dc448d4ab70457b93ccecc0",
              "IPY_MODEL_b6f2ee816d4a474786ee5119540e95f8"
            ]
          }
        },
        "fc903d837bfd45ceacd0bf020c03c89a": {
          "model_module": "@jupyter-widgets/base",
          "model_name": "LayoutModel",
          "state": {
            "_view_name": "LayoutView",
            "grid_template_rows": null,
            "right": null,
            "justify_content": null,
            "_view_module": "@jupyter-widgets/base",
            "overflow": null,
            "_model_module_version": "1.2.0",
            "_view_count": null,
            "flex_flow": null,
            "width": null,
            "min_width": null,
            "border": null,
            "align_items": null,
            "bottom": null,
            "_model_module": "@jupyter-widgets/base",
            "top": null,
            "grid_column": null,
            "overflow_y": null,
            "overflow_x": null,
            "grid_auto_flow": null,
            "grid_area": null,
            "grid_template_columns": null,
            "flex": null,
            "_model_name": "LayoutModel",
            "justify_items": null,
            "grid_row": null,
            "max_height": null,
            "align_content": null,
            "visibility": null,
            "align_self": null,
            "height": null,
            "min_height": null,
            "padding": null,
            "grid_auto_rows": null,
            "grid_gap": null,
            "max_width": null,
            "order": null,
            "_view_module_version": "1.2.0",
            "grid_template_areas": null,
            "object_position": null,
            "object_fit": null,
            "grid_auto_columns": null,
            "margin": null,
            "display": null,
            "left": null
          }
        },
        "d0f2f0c36dc448d4ab70457b93ccecc0": {
          "model_module": "@jupyter-widgets/controls",
          "model_name": "FloatProgressModel",
          "state": {
            "_view_name": "ProgressView",
            "style": "IPY_MODEL_431bd83a503c4bcdaa5beaa7c6475153",
            "_dom_classes": [],
            "description": "Downloading: 100%",
            "_model_name": "FloatProgressModel",
            "bar_style": "success",
            "max": 1262009187,
            "_view_module": "@jupyter-widgets/controls",
            "_model_module_version": "1.5.0",
            "value": 1262009187,
            "_view_count": null,
            "_view_module_version": "1.5.0",
            "orientation": "horizontal",
            "min": 0,
            "description_tooltip": null,
            "_model_module": "@jupyter-widgets/controls",
            "layout": "IPY_MODEL_6806aa6de5514b99ab7de6a1f250bc7f"
          }
        },
        "b6f2ee816d4a474786ee5119540e95f8": {
          "model_module": "@jupyter-widgets/controls",
          "model_name": "HTMLModel",
          "state": {
            "_view_name": "HTMLView",
            "style": "IPY_MODEL_0b5ecee029b741019fe8d8d15fc88b44",
            "_dom_classes": [],
            "description": "",
            "_model_name": "HTMLModel",
            "placeholder": "​",
            "_view_module": "@jupyter-widgets/controls",
            "_model_module_version": "1.5.0",
            "value": " 1.26G/1.26G [00:26&lt;00:00, 47.3MB/s]",
            "_view_count": null,
            "_view_module_version": "1.5.0",
            "description_tooltip": null,
            "_model_module": "@jupyter-widgets/controls",
            "layout": "IPY_MODEL_efb52d1702aa4607a18078ec9df24d4f"
          }
        },
        "431bd83a503c4bcdaa5beaa7c6475153": {
          "model_module": "@jupyter-widgets/controls",
          "model_name": "ProgressStyleModel",
          "state": {
            "_view_name": "StyleView",
            "_model_name": "ProgressStyleModel",
            "description_width": "initial",
            "_view_module": "@jupyter-widgets/base",
            "_model_module_version": "1.5.0",
            "_view_count": null,
            "_view_module_version": "1.2.0",
            "bar_color": null,
            "_model_module": "@jupyter-widgets/controls"
          }
        },
        "6806aa6de5514b99ab7de6a1f250bc7f": {
          "model_module": "@jupyter-widgets/base",
          "model_name": "LayoutModel",
          "state": {
            "_view_name": "LayoutView",
            "grid_template_rows": null,
            "right": null,
            "justify_content": null,
            "_view_module": "@jupyter-widgets/base",
            "overflow": null,
            "_model_module_version": "1.2.0",
            "_view_count": null,
            "flex_flow": null,
            "width": null,
            "min_width": null,
            "border": null,
            "align_items": null,
            "bottom": null,
            "_model_module": "@jupyter-widgets/base",
            "top": null,
            "grid_column": null,
            "overflow_y": null,
            "overflow_x": null,
            "grid_auto_flow": null,
            "grid_area": null,
            "grid_template_columns": null,
            "flex": null,
            "_model_name": "LayoutModel",
            "justify_items": null,
            "grid_row": null,
            "max_height": null,
            "align_content": null,
            "visibility": null,
            "align_self": null,
            "height": null,
            "min_height": null,
            "padding": null,
            "grid_auto_rows": null,
            "grid_gap": null,
            "max_width": null,
            "order": null,
            "_view_module_version": "1.2.0",
            "grid_template_areas": null,
            "object_position": null,
            "object_fit": null,
            "grid_auto_columns": null,
            "margin": null,
            "display": null,
            "left": null
          }
        },
        "0b5ecee029b741019fe8d8d15fc88b44": {
          "model_module": "@jupyter-widgets/controls",
          "model_name": "DescriptionStyleModel",
          "state": {
            "_view_name": "StyleView",
            "_model_name": "DescriptionStyleModel",
            "description_width": "",
            "_view_module": "@jupyter-widgets/base",
            "_model_module_version": "1.5.0",
            "_view_count": null,
            "_view_module_version": "1.2.0",
            "_model_module": "@jupyter-widgets/controls"
          }
        },
        "efb52d1702aa4607a18078ec9df24d4f": {
          "model_module": "@jupyter-widgets/base",
          "model_name": "LayoutModel",
          "state": {
            "_view_name": "LayoutView",
            "grid_template_rows": null,
            "right": null,
            "justify_content": null,
            "_view_module": "@jupyter-widgets/base",
            "overflow": null,
            "_model_module_version": "1.2.0",
            "_view_count": null,
            "flex_flow": null,
            "width": null,
            "min_width": null,
            "border": null,
            "align_items": null,
            "bottom": null,
            "_model_module": "@jupyter-widgets/base",
            "top": null,
            "grid_column": null,
            "overflow_y": null,
            "overflow_x": null,
            "grid_auto_flow": null,
            "grid_area": null,
            "grid_template_columns": null,
            "flex": null,
            "_model_name": "LayoutModel",
            "justify_items": null,
            "grid_row": null,
            "max_height": null,
            "align_content": null,
            "visibility": null,
            "align_self": null,
            "height": null,
            "min_height": null,
            "padding": null,
            "grid_auto_rows": null,
            "grid_gap": null,
            "max_width": null,
            "order": null,
            "_view_module_version": "1.2.0",
            "grid_template_areas": null,
            "object_position": null,
            "object_fit": null,
            "grid_auto_columns": null,
            "margin": null,
            "display": null,
            "left": null
          }
        },
        "65e194a07ec44a49922b5f9990d22ad0": {
          "model_module": "@jupyter-widgets/controls",
          "model_name": "HBoxModel",
          "state": {
            "_view_name": "HBoxView",
            "_dom_classes": [],
            "_model_name": "HBoxModel",
            "_view_module": "@jupyter-widgets/controls",
            "_model_module_version": "1.5.0",
            "_view_count": null,
            "_view_module_version": "1.5.0",
            "box_style": "",
            "layout": "IPY_MODEL_5a1c7331e2e24b67a76dfa6720095982",
            "_model_module": "@jupyter-widgets/controls",
            "children": [
              "IPY_MODEL_539888606b134db7b4d0b262f85ad4fd",
              "IPY_MODEL_d9dcadd21403499ea5c7144cbc824af1"
            ]
          }
        },
        "5a1c7331e2e24b67a76dfa6720095982": {
          "model_module": "@jupyter-widgets/base",
          "model_name": "LayoutModel",
          "state": {
            "_view_name": "LayoutView",
            "grid_template_rows": null,
            "right": null,
            "justify_content": null,
            "_view_module": "@jupyter-widgets/base",
            "overflow": null,
            "_model_module_version": "1.2.0",
            "_view_count": null,
            "flex_flow": null,
            "width": null,
            "min_width": null,
            "border": null,
            "align_items": null,
            "bottom": null,
            "_model_module": "@jupyter-widgets/base",
            "top": null,
            "grid_column": null,
            "overflow_y": null,
            "overflow_x": null,
            "grid_auto_flow": null,
            "grid_area": null,
            "grid_template_columns": null,
            "flex": null,
            "_model_name": "LayoutModel",
            "justify_items": null,
            "grid_row": null,
            "max_height": null,
            "align_content": null,
            "visibility": null,
            "align_self": null,
            "height": null,
            "min_height": null,
            "padding": null,
            "grid_auto_rows": null,
            "grid_gap": null,
            "max_width": null,
            "order": null,
            "_view_module_version": "1.2.0",
            "grid_template_areas": null,
            "object_position": null,
            "object_fit": null,
            "grid_auto_columns": null,
            "margin": null,
            "display": null,
            "left": null
          }
        },
        "539888606b134db7b4d0b262f85ad4fd": {
          "model_module": "@jupyter-widgets/controls",
          "model_name": "FloatProgressModel",
          "state": {
            "_view_name": "ProgressView",
            "style": "IPY_MODEL_dd5321dad0c24e3f92bd2071fa4b16b9",
            "_dom_classes": [],
            "description": "Downloading: 100%",
            "_model_name": "FloatProgressModel",
            "bar_style": "success",
            "max": 5019,
            "_view_module": "@jupyter-widgets/controls",
            "_model_module_version": "1.5.0",
            "value": 5019,
            "_view_count": null,
            "_view_module_version": "1.5.0",
            "orientation": "horizontal",
            "min": 0,
            "description_tooltip": null,
            "_model_module": "@jupyter-widgets/controls",
            "layout": "IPY_MODEL_797ab57a81964d5db3e214fa5d9a6833"
          }
        },
        "d9dcadd21403499ea5c7144cbc824af1": {
          "model_module": "@jupyter-widgets/controls",
          "model_name": "HTMLModel",
          "state": {
            "_view_name": "HTMLView",
            "style": "IPY_MODEL_de315e5e91b24054aac889c726b99e4b",
            "_dom_classes": [],
            "description": "",
            "_model_name": "HTMLModel",
            "placeholder": "​",
            "_view_module": "@jupyter-widgets/controls",
            "_model_module_version": "1.5.0",
            "value": " 5.02k/5.02k [00:00&lt;00:00, 18.7kB/s]",
            "_view_count": null,
            "_view_module_version": "1.5.0",
            "description_tooltip": null,
            "_model_module": "@jupyter-widgets/controls",
            "layout": "IPY_MODEL_df58c746c92a4ec884064e0b8aa9a779"
          }
        },
        "dd5321dad0c24e3f92bd2071fa4b16b9": {
          "model_module": "@jupyter-widgets/controls",
          "model_name": "ProgressStyleModel",
          "state": {
            "_view_name": "StyleView",
            "_model_name": "ProgressStyleModel",
            "description_width": "initial",
            "_view_module": "@jupyter-widgets/base",
            "_model_module_version": "1.5.0",
            "_view_count": null,
            "_view_module_version": "1.2.0",
            "bar_color": null,
            "_model_module": "@jupyter-widgets/controls"
          }
        },
        "797ab57a81964d5db3e214fa5d9a6833": {
          "model_module": "@jupyter-widgets/base",
          "model_name": "LayoutModel",
          "state": {
            "_view_name": "LayoutView",
            "grid_template_rows": null,
            "right": null,
            "justify_content": null,
            "_view_module": "@jupyter-widgets/base",
            "overflow": null,
            "_model_module_version": "1.2.0",
            "_view_count": null,
            "flex_flow": null,
            "width": null,
            "min_width": null,
            "border": null,
            "align_items": null,
            "bottom": null,
            "_model_module": "@jupyter-widgets/base",
            "top": null,
            "grid_column": null,
            "overflow_y": null,
            "overflow_x": null,
            "grid_auto_flow": null,
            "grid_area": null,
            "grid_template_columns": null,
            "flex": null,
            "_model_name": "LayoutModel",
            "justify_items": null,
            "grid_row": null,
            "max_height": null,
            "align_content": null,
            "visibility": null,
            "align_self": null,
            "height": null,
            "min_height": null,
            "padding": null,
            "grid_auto_rows": null,
            "grid_gap": null,
            "max_width": null,
            "order": null,
            "_view_module_version": "1.2.0",
            "grid_template_areas": null,
            "object_position": null,
            "object_fit": null,
            "grid_auto_columns": null,
            "margin": null,
            "display": null,
            "left": null
          }
        },
        "de315e5e91b24054aac889c726b99e4b": {
          "model_module": "@jupyter-widgets/controls",
          "model_name": "DescriptionStyleModel",
          "state": {
            "_view_name": "StyleView",
            "_model_name": "DescriptionStyleModel",
            "description_width": "",
            "_view_module": "@jupyter-widgets/base",
            "_model_module_version": "1.5.0",
            "_view_count": null,
            "_view_module_version": "1.2.0",
            "_model_module": "@jupyter-widgets/controls"
          }
        },
        "df58c746c92a4ec884064e0b8aa9a779": {
          "model_module": "@jupyter-widgets/base",
          "model_name": "LayoutModel",
          "state": {
            "_view_name": "LayoutView",
            "grid_template_rows": null,
            "right": null,
            "justify_content": null,
            "_view_module": "@jupyter-widgets/base",
            "overflow": null,
            "_model_module_version": "1.2.0",
            "_view_count": null,
            "flex_flow": null,
            "width": null,
            "min_width": null,
            "border": null,
            "align_items": null,
            "bottom": null,
            "_model_module": "@jupyter-widgets/base",
            "top": null,
            "grid_column": null,
            "overflow_y": null,
            "overflow_x": null,
            "grid_auto_flow": null,
            "grid_area": null,
            "grid_template_columns": null,
            "flex": null,
            "_model_name": "LayoutModel",
            "justify_items": null,
            "grid_row": null,
            "max_height": null,
            "align_content": null,
            "visibility": null,
            "align_self": null,
            "height": null,
            "min_height": null,
            "padding": null,
            "grid_auto_rows": null,
            "grid_gap": null,
            "max_width": null,
            "order": null,
            "_view_module_version": "1.2.0",
            "grid_template_areas": null,
            "object_position": null,
            "object_fit": null,
            "grid_auto_columns": null,
            "margin": null,
            "display": null,
            "left": null
          }
        },
        "dda0cbab5c794756ac2158316962cc53": {
          "model_module": "@jupyter-widgets/controls",
          "model_name": "HBoxModel",
          "state": {
            "_view_name": "HBoxView",
            "_dom_classes": [],
            "_model_name": "HBoxModel",
            "_view_module": "@jupyter-widgets/controls",
            "_model_module_version": "1.5.0",
            "_view_count": null,
            "_view_module_version": "1.5.0",
            "box_style": "",
            "layout": "IPY_MODEL_f2ad7458fe63496cbf7f4feb73ddc004",
            "_model_module": "@jupyter-widgets/controls",
            "children": [
              "IPY_MODEL_dadc4b833fb4481e998f4f20d458bf76",
              "IPY_MODEL_fb9e1c7e560b47fb8588f855b39a94b2"
            ]
          }
        },
        "f2ad7458fe63496cbf7f4feb73ddc004": {
          "model_module": "@jupyter-widgets/base",
          "model_name": "LayoutModel",
          "state": {
            "_view_name": "LayoutView",
            "grid_template_rows": null,
            "right": null,
            "justify_content": null,
            "_view_module": "@jupyter-widgets/base",
            "overflow": null,
            "_model_module_version": "1.2.0",
            "_view_count": null,
            "flex_flow": null,
            "width": null,
            "min_width": null,
            "border": null,
            "align_items": null,
            "bottom": null,
            "_model_module": "@jupyter-widgets/base",
            "top": null,
            "grid_column": null,
            "overflow_y": null,
            "overflow_x": null,
            "grid_auto_flow": null,
            "grid_area": null,
            "grid_template_columns": null,
            "flex": null,
            "_model_name": "LayoutModel",
            "justify_items": null,
            "grid_row": null,
            "max_height": null,
            "align_content": null,
            "visibility": null,
            "align_self": null,
            "height": null,
            "min_height": null,
            "padding": null,
            "grid_auto_rows": null,
            "grid_gap": null,
            "max_width": null,
            "order": null,
            "_view_module_version": "1.2.0",
            "grid_template_areas": null,
            "object_position": null,
            "object_fit": null,
            "grid_auto_columns": null,
            "margin": null,
            "display": null,
            "left": null
          }
        },
        "dadc4b833fb4481e998f4f20d458bf76": {
          "model_module": "@jupyter-widgets/controls",
          "model_name": "FloatProgressModel",
          "state": {
            "_view_name": "ProgressView",
            "style": "IPY_MODEL_eee0c4050a8f4cfb8b3e7ead5a085b2c",
            "_dom_classes": [],
            "description": "Downloading: 100%",
            "_model_name": "FloatProgressModel",
            "bar_style": "success",
            "max": 9078094,
            "_view_module": "@jupyter-widgets/controls",
            "_model_module_version": "1.5.0",
            "value": 9078094,
            "_view_count": null,
            "_view_module_version": "1.5.0",
            "orientation": "horizontal",
            "min": 0,
            "description_tooltip": null,
            "_model_module": "@jupyter-widgets/controls",
            "layout": "IPY_MODEL_1e73adb12d244ad3ab92ed36599cbefa"
          }
        },
        "fb9e1c7e560b47fb8588f855b39a94b2": {
          "model_module": "@jupyter-widgets/controls",
          "model_name": "HTMLModel",
          "state": {
            "_view_name": "HTMLView",
            "style": "IPY_MODEL_d0ca09ea4936450bac81cb70f1ab25cb",
            "_dom_classes": [],
            "description": "",
            "_model_name": "HTMLModel",
            "placeholder": "​",
            "_view_module": "@jupyter-widgets/controls",
            "_model_module_version": "1.5.0",
            "value": " 9.08M/9.08M [00:00&lt;00:00, 11.1MB/s]",
            "_view_count": null,
            "_view_module_version": "1.5.0",
            "description_tooltip": null,
            "_model_module": "@jupyter-widgets/controls",
            "layout": "IPY_MODEL_09e738408db04b5a8a8c2ec98d5e0abe"
          }
        },
        "eee0c4050a8f4cfb8b3e7ead5a085b2c": {
          "model_module": "@jupyter-widgets/controls",
          "model_name": "ProgressStyleModel",
          "state": {
            "_view_name": "StyleView",
            "_model_name": "ProgressStyleModel",
            "description_width": "initial",
            "_view_module": "@jupyter-widgets/base",
            "_model_module_version": "1.5.0",
            "_view_count": null,
            "_view_module_version": "1.2.0",
            "bar_color": null,
            "_model_module": "@jupyter-widgets/controls"
          }
        },
        "1e73adb12d244ad3ab92ed36599cbefa": {
          "model_module": "@jupyter-widgets/base",
          "model_name": "LayoutModel",
          "state": {
            "_view_name": "LayoutView",
            "grid_template_rows": null,
            "right": null,
            "justify_content": null,
            "_view_module": "@jupyter-widgets/base",
            "overflow": null,
            "_model_module_version": "1.2.0",
            "_view_count": null,
            "flex_flow": null,
            "width": null,
            "min_width": null,
            "border": null,
            "align_items": null,
            "bottom": null,
            "_model_module": "@jupyter-widgets/base",
            "top": null,
            "grid_column": null,
            "overflow_y": null,
            "overflow_x": null,
            "grid_auto_flow": null,
            "grid_area": null,
            "grid_template_columns": null,
            "flex": null,
            "_model_name": "LayoutModel",
            "justify_items": null,
            "grid_row": null,
            "max_height": null,
            "align_content": null,
            "visibility": null,
            "align_self": null,
            "height": null,
            "min_height": null,
            "padding": null,
            "grid_auto_rows": null,
            "grid_gap": null,
            "max_width": null,
            "order": null,
            "_view_module_version": "1.2.0",
            "grid_template_areas": null,
            "object_position": null,
            "object_fit": null,
            "grid_auto_columns": null,
            "margin": null,
            "display": null,
            "left": null
          }
        },
        "d0ca09ea4936450bac81cb70f1ab25cb": {
          "model_module": "@jupyter-widgets/controls",
          "model_name": "DescriptionStyleModel",
          "state": {
            "_view_name": "StyleView",
            "_model_name": "DescriptionStyleModel",
            "description_width": "",
            "_view_module": "@jupyter-widgets/base",
            "_model_module_version": "1.5.0",
            "_view_count": null,
            "_view_module_version": "1.2.0",
            "_model_module": "@jupyter-widgets/controls"
          }
        },
        "09e738408db04b5a8a8c2ec98d5e0abe": {
          "model_module": "@jupyter-widgets/base",
          "model_name": "LayoutModel",
          "state": {
            "_view_name": "LayoutView",
            "grid_template_rows": null,
            "right": null,
            "justify_content": null,
            "_view_module": "@jupyter-widgets/base",
            "overflow": null,
            "_model_module_version": "1.2.0",
            "_view_count": null,
            "flex_flow": null,
            "width": null,
            "min_width": null,
            "border": null,
            "align_items": null,
            "bottom": null,
            "_model_module": "@jupyter-widgets/base",
            "top": null,
            "grid_column": null,
            "overflow_y": null,
            "overflow_x": null,
            "grid_auto_flow": null,
            "grid_area": null,
            "grid_template_columns": null,
            "flex": null,
            "_model_name": "LayoutModel",
            "justify_items": null,
            "grid_row": null,
            "max_height": null,
            "align_content": null,
            "visibility": null,
            "align_self": null,
            "height": null,
            "min_height": null,
            "padding": null,
            "grid_auto_rows": null,
            "grid_gap": null,
            "max_width": null,
            "order": null,
            "_view_module_version": "1.2.0",
            "grid_template_areas": null,
            "object_position": null,
            "object_fit": null,
            "grid_auto_columns": null,
            "margin": null,
            "display": null,
            "left": null
          }
        },
        "7a97f97c25334c07bcb7716d2569e119": {
          "model_module": "@jupyter-widgets/controls",
          "model_name": "HBoxModel",
          "state": {
            "_view_name": "HBoxView",
            "_dom_classes": [],
            "_model_name": "HBoxModel",
            "_view_module": "@jupyter-widgets/controls",
            "_model_module_version": "1.5.0",
            "_view_count": null,
            "_view_module_version": "1.5.0",
            "box_style": "",
            "layout": "IPY_MODEL_6e0d9c09e3b24399b9abdd1a0936c7b1",
            "_model_module": "@jupyter-widgets/controls",
            "children": [
              "IPY_MODEL_4928d03afdb64d17a7b5f5c4d2a69766",
              "IPY_MODEL_03ba5e7e54e944c581d0a1bab8badea3"
            ]
          }
        },
        "6e0d9c09e3b24399b9abdd1a0936c7b1": {
          "model_module": "@jupyter-widgets/base",
          "model_name": "LayoutModel",
          "state": {
            "_view_name": "LayoutView",
            "grid_template_rows": null,
            "right": null,
            "justify_content": null,
            "_view_module": "@jupyter-widgets/base",
            "overflow": null,
            "_model_module_version": "1.2.0",
            "_view_count": null,
            "flex_flow": null,
            "width": null,
            "min_width": null,
            "border": null,
            "align_items": null,
            "bottom": null,
            "_model_module": "@jupyter-widgets/base",
            "top": null,
            "grid_column": null,
            "overflow_y": null,
            "overflow_x": null,
            "grid_auto_flow": null,
            "grid_area": null,
            "grid_template_columns": null,
            "flex": null,
            "_model_name": "LayoutModel",
            "justify_items": null,
            "grid_row": null,
            "max_height": null,
            "align_content": null,
            "visibility": null,
            "align_self": null,
            "height": null,
            "min_height": null,
            "padding": null,
            "grid_auto_rows": null,
            "grid_gap": null,
            "max_width": null,
            "order": null,
            "_view_module_version": "1.2.0",
            "grid_template_areas": null,
            "object_position": null,
            "object_fit": null,
            "grid_auto_columns": null,
            "margin": null,
            "display": null,
            "left": null
          }
        },
        "4928d03afdb64d17a7b5f5c4d2a69766": {
          "model_module": "@jupyter-widgets/controls",
          "model_name": "FloatProgressModel",
          "state": {
            "_view_name": "ProgressView",
            "style": "IPY_MODEL_77f4c3d68ab745418442e17bcc8fe694",
            "_dom_classes": [],
            "description": "",
            "_model_name": "FloatProgressModel",
            "bar_style": "info",
            "max": 1,
            "_view_module": "@jupyter-widgets/controls",
            "_model_module_version": "1.5.0",
            "value": 1,
            "_view_count": null,
            "_view_module_version": "1.5.0",
            "orientation": "horizontal",
            "min": 0,
            "description_tooltip": null,
            "_model_module": "@jupyter-widgets/controls",
            "layout": "IPY_MODEL_650c6f5f93ba420d9d5cd220929873a9"
          }
        },
        "03ba5e7e54e944c581d0a1bab8badea3": {
          "model_module": "@jupyter-widgets/controls",
          "model_name": "HTMLModel",
          "state": {
            "_view_name": "HTMLView",
            "style": "IPY_MODEL_ae7a2c16784544f7b08088e323844f7a",
            "_dom_classes": [],
            "description": "",
            "_model_name": "HTMLModel",
            "placeholder": "​",
            "_view_module": "@jupyter-widgets/controls",
            "_model_module_version": "1.5.0",
            "value": " 73/0 [00:01&lt;00:00,  1.70s/ examples]",
            "_view_count": null,
            "_view_module_version": "1.5.0",
            "description_tooltip": null,
            "_model_module": "@jupyter-widgets/controls",
            "layout": "IPY_MODEL_e9991f82e85f4dd3b7304d618e8a9f95"
          }
        },
        "77f4c3d68ab745418442e17bcc8fe694": {
          "model_module": "@jupyter-widgets/controls",
          "model_name": "ProgressStyleModel",
          "state": {
            "_view_name": "StyleView",
            "_model_name": "ProgressStyleModel",
            "description_width": "initial",
            "_view_module": "@jupyter-widgets/base",
            "_model_module_version": "1.5.0",
            "_view_count": null,
            "_view_module_version": "1.2.0",
            "bar_color": null,
            "_model_module": "@jupyter-widgets/controls"
          }
        },
        "650c6f5f93ba420d9d5cd220929873a9": {
          "model_module": "@jupyter-widgets/base",
          "model_name": "LayoutModel",
          "state": {
            "_view_name": "LayoutView",
            "grid_template_rows": null,
            "right": null,
            "justify_content": null,
            "_view_module": "@jupyter-widgets/base",
            "overflow": null,
            "_model_module_version": "1.2.0",
            "_view_count": null,
            "flex_flow": null,
            "width": null,
            "min_width": null,
            "border": null,
            "align_items": null,
            "bottom": null,
            "_model_module": "@jupyter-widgets/base",
            "top": null,
            "grid_column": null,
            "overflow_y": null,
            "overflow_x": null,
            "grid_auto_flow": null,
            "grid_area": null,
            "grid_template_columns": null,
            "flex": null,
            "_model_name": "LayoutModel",
            "justify_items": null,
            "grid_row": null,
            "max_height": null,
            "align_content": null,
            "visibility": null,
            "align_self": null,
            "height": null,
            "min_height": null,
            "padding": null,
            "grid_auto_rows": null,
            "grid_gap": null,
            "max_width": null,
            "order": null,
            "_view_module_version": "1.2.0",
            "grid_template_areas": null,
            "object_position": null,
            "object_fit": null,
            "grid_auto_columns": null,
            "margin": null,
            "display": null,
            "left": null
          }
        },
        "ae7a2c16784544f7b08088e323844f7a": {
          "model_module": "@jupyter-widgets/controls",
          "model_name": "DescriptionStyleModel",
          "state": {
            "_view_name": "StyleView",
            "_model_name": "DescriptionStyleModel",
            "description_width": "",
            "_view_module": "@jupyter-widgets/base",
            "_model_module_version": "1.5.0",
            "_view_count": null,
            "_view_module_version": "1.2.0",
            "_model_module": "@jupyter-widgets/controls"
          }
        },
        "e9991f82e85f4dd3b7304d618e8a9f95": {
          "model_module": "@jupyter-widgets/base",
          "model_name": "LayoutModel",
          "state": {
            "_view_name": "LayoutView",
            "grid_template_rows": null,
            "right": null,
            "justify_content": null,
            "_view_module": "@jupyter-widgets/base",
            "overflow": null,
            "_model_module_version": "1.2.0",
            "_view_count": null,
            "flex_flow": null,
            "width": null,
            "min_width": null,
            "border": null,
            "align_items": null,
            "bottom": null,
            "_model_module": "@jupyter-widgets/base",
            "top": null,
            "grid_column": null,
            "overflow_y": null,
            "overflow_x": null,
            "grid_auto_flow": null,
            "grid_area": null,
            "grid_template_columns": null,
            "flex": null,
            "_model_name": "LayoutModel",
            "justify_items": null,
            "grid_row": null,
            "max_height": null,
            "align_content": null,
            "visibility": null,
            "align_self": null,
            "height": null,
            "min_height": null,
            "padding": null,
            "grid_auto_rows": null,
            "grid_gap": null,
            "max_width": null,
            "order": null,
            "_view_module_version": "1.2.0",
            "grid_template_areas": null,
            "object_position": null,
            "object_fit": null,
            "grid_auto_columns": null,
            "margin": null,
            "display": null,
            "left": null
          }
        },
        "d4a3771caba44c63aa5ee3285c028944": {
          "model_module": "@jupyter-widgets/controls",
          "model_name": "HBoxModel",
          "state": {
            "_view_name": "HBoxView",
            "_dom_classes": [],
            "_model_name": "HBoxModel",
            "_view_module": "@jupyter-widgets/controls",
            "_model_module_version": "1.5.0",
            "_view_count": null,
            "_view_module_version": "1.5.0",
            "box_style": "",
            "layout": "IPY_MODEL_dcc2c4dd793146d881978c92d7f3a324",
            "_model_module": "@jupyter-widgets/controls",
            "children": [
              "IPY_MODEL_8d5536751e3d484e9e1660a21992683b",
              "IPY_MODEL_f4101d30452548fbaf93f59c35d65879"
            ]
          }
        },
        "dcc2c4dd793146d881978c92d7f3a324": {
          "model_module": "@jupyter-widgets/base",
          "model_name": "LayoutModel",
          "state": {
            "_view_name": "LayoutView",
            "grid_template_rows": null,
            "right": null,
            "justify_content": null,
            "_view_module": "@jupyter-widgets/base",
            "overflow": null,
            "_model_module_version": "1.2.0",
            "_view_count": null,
            "flex_flow": null,
            "width": null,
            "min_width": null,
            "border": null,
            "align_items": null,
            "bottom": null,
            "_model_module": "@jupyter-widgets/base",
            "top": null,
            "grid_column": null,
            "overflow_y": null,
            "overflow_x": null,
            "grid_auto_flow": null,
            "grid_area": null,
            "grid_template_columns": null,
            "flex": null,
            "_model_name": "LayoutModel",
            "justify_items": null,
            "grid_row": null,
            "max_height": null,
            "align_content": null,
            "visibility": null,
            "align_self": null,
            "height": null,
            "min_height": null,
            "padding": null,
            "grid_auto_rows": null,
            "grid_gap": null,
            "max_width": null,
            "order": null,
            "_view_module_version": "1.2.0",
            "grid_template_areas": null,
            "object_position": null,
            "object_fit": null,
            "grid_auto_columns": null,
            "margin": null,
            "display": null,
            "left": null
          }
        },
        "8d5536751e3d484e9e1660a21992683b": {
          "model_module": "@jupyter-widgets/controls",
          "model_name": "FloatProgressModel",
          "state": {
            "_view_name": "ProgressView",
            "style": "IPY_MODEL_727d0f84e95c4748ba31eea8adf2fe7b",
            "_dom_classes": [],
            "description": "100%",
            "_model_name": "FloatProgressModel",
            "bar_style": "success",
            "max": 73,
            "_view_module": "@jupyter-widgets/controls",
            "_model_module_version": "1.5.0",
            "value": 73,
            "_view_count": null,
            "_view_module_version": "1.5.0",
            "orientation": "horizontal",
            "min": 0,
            "description_tooltip": null,
            "_model_module": "@jupyter-widgets/controls",
            "layout": "IPY_MODEL_d00eda8e177a43de88aa610712fd5b9c"
          }
        },
        "f4101d30452548fbaf93f59c35d65879": {
          "model_module": "@jupyter-widgets/controls",
          "model_name": "HTMLModel",
          "state": {
            "_view_name": "HTMLView",
            "style": "IPY_MODEL_978a81dda57b40e58b2c8be03f00e26b",
            "_dom_classes": [],
            "description": "",
            "_model_name": "HTMLModel",
            "placeholder": "​",
            "_view_module": "@jupyter-widgets/controls",
            "_model_module_version": "1.5.0",
            "value": " 73/73 [00:49&lt;00:00,  1.48ex/s]",
            "_view_count": null,
            "_view_module_version": "1.5.0",
            "description_tooltip": null,
            "_model_module": "@jupyter-widgets/controls",
            "layout": "IPY_MODEL_1d72da19b1a9499a9baa3834d04199a9"
          }
        },
        "727d0f84e95c4748ba31eea8adf2fe7b": {
          "model_module": "@jupyter-widgets/controls",
          "model_name": "ProgressStyleModel",
          "state": {
            "_view_name": "StyleView",
            "_model_name": "ProgressStyleModel",
            "description_width": "initial",
            "_view_module": "@jupyter-widgets/base",
            "_model_module_version": "1.5.0",
            "_view_count": null,
            "_view_module_version": "1.2.0",
            "bar_color": null,
            "_model_module": "@jupyter-widgets/controls"
          }
        },
        "d00eda8e177a43de88aa610712fd5b9c": {
          "model_module": "@jupyter-widgets/base",
          "model_name": "LayoutModel",
          "state": {
            "_view_name": "LayoutView",
            "grid_template_rows": null,
            "right": null,
            "justify_content": null,
            "_view_module": "@jupyter-widgets/base",
            "overflow": null,
            "_model_module_version": "1.2.0",
            "_view_count": null,
            "flex_flow": null,
            "width": null,
            "min_width": null,
            "border": null,
            "align_items": null,
            "bottom": null,
            "_model_module": "@jupyter-widgets/base",
            "top": null,
            "grid_column": null,
            "overflow_y": null,
            "overflow_x": null,
            "grid_auto_flow": null,
            "grid_area": null,
            "grid_template_columns": null,
            "flex": null,
            "_model_name": "LayoutModel",
            "justify_items": null,
            "grid_row": null,
            "max_height": null,
            "align_content": null,
            "visibility": null,
            "align_self": null,
            "height": null,
            "min_height": null,
            "padding": null,
            "grid_auto_rows": null,
            "grid_gap": null,
            "max_width": null,
            "order": null,
            "_view_module_version": "1.2.0",
            "grid_template_areas": null,
            "object_position": null,
            "object_fit": null,
            "grid_auto_columns": null,
            "margin": null,
            "display": null,
            "left": null
          }
        },
        "978a81dda57b40e58b2c8be03f00e26b": {
          "model_module": "@jupyter-widgets/controls",
          "model_name": "DescriptionStyleModel",
          "state": {
            "_view_name": "StyleView",
            "_model_name": "DescriptionStyleModel",
            "description_width": "",
            "_view_module": "@jupyter-widgets/base",
            "_model_module_version": "1.5.0",
            "_view_count": null,
            "_view_module_version": "1.2.0",
            "_model_module": "@jupyter-widgets/controls"
          }
        },
        "1d72da19b1a9499a9baa3834d04199a9": {
          "model_module": "@jupyter-widgets/base",
          "model_name": "LayoutModel",
          "state": {
            "_view_name": "LayoutView",
            "grid_template_rows": null,
            "right": null,
            "justify_content": null,
            "_view_module": "@jupyter-widgets/base",
            "overflow": null,
            "_model_module_version": "1.2.0",
            "_view_count": null,
            "flex_flow": null,
            "width": null,
            "min_width": null,
            "border": null,
            "align_items": null,
            "bottom": null,
            "_model_module": "@jupyter-widgets/base",
            "top": null,
            "grid_column": null,
            "overflow_y": null,
            "overflow_x": null,
            "grid_auto_flow": null,
            "grid_area": null,
            "grid_template_columns": null,
            "flex": null,
            "_model_name": "LayoutModel",
            "justify_items": null,
            "grid_row": null,
            "max_height": null,
            "align_content": null,
            "visibility": null,
            "align_self": null,
            "height": null,
            "min_height": null,
            "padding": null,
            "grid_auto_rows": null,
            "grid_gap": null,
            "max_width": null,
            "order": null,
            "_view_module_version": "1.2.0",
            "grid_template_areas": null,
            "object_position": null,
            "object_fit": null,
            "grid_auto_columns": null,
            "margin": null,
            "display": null,
            "left": null
          }
        }
      }
    }
  },
  "cells": [
    {
      "cell_type": "markdown",
      "metadata": {
        "id": "tzJWb5FpFAoj"
      },
      "source": [
        "###### Get Clip"
      ]
    },
    {
      "cell_type": "code",
      "metadata": {
        "colab": {
          "base_uri": "https://localhost:8080/"
        },
        "id": "uBAt5FoH1WKg",
        "outputId": "66aa35e7-47c5-4926-aa8c-ee966f60966d"
      },
      "source": [
        "!pip install --upgrade youtube_dl"
      ],
      "execution_count": 1,
      "outputs": [
        {
          "output_type": "stream",
          "text": [
            "Collecting youtube_dl\n",
            "\u001b[?25l  Downloading https://files.pythonhosted.org/packages/8d/01/0cddb3c14dec91d627a0c9df61e072812e3e3b8cee48a95e6566fd403a79/youtube_dl-2021.3.14-py2.py3-none-any.whl (1.9MB)\n",
            "\u001b[K     |████████████████████████████████| 1.9MB 11.5MB/s \n",
            "\u001b[?25hInstalling collected packages: youtube-dl\n",
            "Successfully installed youtube-dl-2021.3.14\n"
          ],
          "name": "stdout"
        }
      ]
    },
    {
      "cell_type": "code",
      "metadata": {
        "colab": {
          "base_uri": "https://localhost:8080/"
        },
        "id": "q4S7ZXnI1WIV",
        "outputId": "8101ceaa-ae1c-4095-d728-632cccadcb74"
      },
      "source": [
        "!youtube-dl https://www.youtube.com/watch?v=91_G8iaokk8\n",
        "!mv *.mkv clip.mkv"
      ],
      "execution_count": 2,
      "outputs": [
        {
          "output_type": "stream",
          "text": [
            "[youtube] 91_G8iaokk8: Downloading webpage\n",
            "\u001b[0;33mWARNING:\u001b[0m Requested formats are incompatible for merge and will be merged into mkv.\n",
            "[download] Destination: Master Yoda Quote (FEAR) _ Star Wars I - The Phantom Menace (1999)-91_G8iaokk8.f136.mp4\n",
            "\u001b[K[download] 100% of 4.52MiB in 00:00\n",
            "[download] Destination: Master Yoda Quote (FEAR) _ Star Wars I - The Phantom Menace (1999)-91_G8iaokk8.f251.webm\n",
            "\u001b[K[download] 100% of 797.54KiB in 00:00\n",
            "[ffmpeg] Merging formats into \"Master Yoda Quote (FEAR) _ Star Wars I - The Phantom Menace (1999)-91_G8iaokk8.mkv\"\n",
            "Deleting original file Master Yoda Quote (FEAR) _ Star Wars I - The Phantom Menace (1999)-91_G8iaokk8.f136.mp4 (pass -k to keep)\n",
            "Deleting original file Master Yoda Quote (FEAR) _ Star Wars I - The Phantom Menace (1999)-91_G8iaokk8.f251.webm (pass -k to keep)\n"
          ],
          "name": "stdout"
        }
      ]
    },
    {
      "cell_type": "code",
      "metadata": {
        "colab": {
          "base_uri": "https://localhost:8080/"
        },
        "id": "j6sG9hU01WCm",
        "outputId": "6489cc15-8ce1-4a43-d0a2-f85ec5514b8e"
      },
      "source": [
        "# Convert\n",
        "\n",
        "import moviepy.editor as mp\n",
        "\n",
        "start = 0\n",
        "end = 45\n",
        "\n",
        "clip_paths = []\n",
        "\n",
        "for i in range(start, end, 10):\n",
        "  clip = mp.VideoFileClip(\"clip.mkv\")\n",
        "\n",
        "  end = min(clip.duration, i+10)\n",
        "\n",
        "  clip = clip.subclip(i,end)\n",
        "\n",
        "  clip.audio.write_audiofile(\"audio_\" + str(i) + \".mp3\")\n",
        "  clip_paths.append(\"audio_\" + str(i) + \".mp3\")"
      ],
      "execution_count": 3,
      "outputs": [
        {
          "output_type": "stream",
          "text": [
            "Imageio: 'ffmpeg-linux64-v3.3.1' was not found on your computer; downloading it now.\n",
            "Try 1. Download from https://github.com/imageio/imageio-binaries/raw/master/ffmpeg/ffmpeg-linux64-v3.3.1 (43.8 MB)\n",
            "Downloading: 8192/45929032 bytes (0.0%)\b\b\b\b\b\b\b\b\b\b\b\b\b\b\b\b\b\b\b\b\b\b\b\b\b\b1761280/45929032 bytes (3.8%)\b\b\b\b\b\b\b\b\b\b\b\b\b\b\b\b\b\b\b\b\b\b\b\b\b\b\b\b\b4005888/45929032 bytes (8.7%)\b\b\b\b\b\b\b\b\b\b\b\b\b\b\b\b\b\b\b\b\b\b\b\b\b\b\b\b\b6471680/45929032 bytes (14.1%)\b\b\b\b\b\b\b\b\b\b\b\b\b\b\b\b\b\b\b\b\b\b\b\b\b\b\b\b\b\b8986624/45929032 bytes (19.6%)\b\b\b\b\b\b\b\b\b\b\b\b\b\b\b\b\b\b\b\b\b\b\b\b\b\b\b\b\b\b11427840/45929032 bytes (24.9%)\b\b\b\b\b\b\b\b\b\b\b\b\b\b\b\b\b\b\b\b\b\b\b\b\b\b\b\b\b\b\b14000128/45929032 bytes (30.5%)\b\b\b\b\b\b\b\b\b\b\b\b\b\b\b\b\b\b\b\b\b\b\b\b\b\b\b\b\b\b\b16392192/45929032 bytes (35.7%)\b\b\b\b\b\b\b\b\b\b\b\b\b\b\b\b\b\b\b\b\b\b\b\b\b\b\b\b\b\b\b18964480/45929032 bytes (41.3%)\b\b\b\b\b\b\b\b\b\b\b\b\b\b\b\b\b\b\b\b\b\b\b\b\b\b\b\b\b\b\b21610496/45929032 bytes (47.1%)\b\b\b\b\b\b\b\b\b\b\b\b\b\b\b\b\b\b\b\b\b\b\b\b\b\b\b\b\b\b\b24428544/45929032 bytes (53.2%)\b\b\b\b\b\b\b\b\b\b\b\b\b\b\b\b\b\b\b\b\b\b\b\b\b\b\b\b\b\b\b26894336/45929032 bytes (58.6%)\b\b\b\b\b\b\b\b\b\b\b\b\b\b\b\b\b\b\b\b\b\b\b\b\b\b\b\b\b\b\b29540352/45929032 bytes (64.3%)\b\b\b\b\b\b\b\b\b\b\b\b\b\b\b\b\b\b\b\b\b\b\b\b\b\b\b\b\b\b\b32038912/45929032 bytes (69.8%)\b\b\b\b\b\b\b\b\b\b\b\b\b\b\b\b\b\b\b\b\b\b\b\b\b\b\b\b\b\b\b34832384/45929032 bytes (75.8%)\b\b\b\b\b\b\b\b\b\b\b\b\b\b\b\b\b\b\b\b\b\b\b\b\b\b\b\b\b\b\b37412864/45929032 bytes (81.5%)\b\b\b\b\b\b\b\b\b\b\b\b\b\b\b\b\b\b\b\b\b\b\b\b\b\b\b\b\b\b\b39944192/45929032 bytes (87.0%)\b\b\b\b\b\b\b\b\b\b\b\b\b\b\b\b\b\b\b\b\b\b\b\b\b\b\b\b\b\b\b42663936/45929032 bytes (92.9%)\b\b\b\b\b\b\b\b\b\b\b\b\b\b\b\b\b\b\b\b\b\b\b\b\b\b\b\b\b\b\b44425216/45929032 bytes (96.7%)\b\b\b\b\b\b\b\b\b\b\b\b\b\b\b\b\b\b\b\b\b\b\b\b\b\b\b\b\b\b\b45929032/45929032 bytes (100.0%)\n",
            "  Done\n",
            "File saved as /root/.imageio/ffmpeg/ffmpeg-linux64-v3.3.1.\n",
            "[MoviePy] Writing audio in audio_0.mp3\n"
          ],
          "name": "stdout"
        },
        {
          "output_type": "stream",
          "text": [
            "100%|██████████| 221/221 [00:00<00:00, 628.22it/s]"
          ],
          "name": "stderr"
        },
        {
          "output_type": "stream",
          "text": [
            "[MoviePy] Done.\n"
          ],
          "name": "stdout"
        },
        {
          "output_type": "stream",
          "text": [
            "\n"
          ],
          "name": "stderr"
        },
        {
          "output_type": "stream",
          "text": [
            "[MoviePy] Writing audio in audio_10.mp3\n"
          ],
          "name": "stdout"
        },
        {
          "output_type": "stream",
          "text": [
            "100%|██████████| 221/221 [00:00<00:00, 587.53it/s]"
          ],
          "name": "stderr"
        },
        {
          "output_type": "stream",
          "text": [
            "[MoviePy] Done.\n"
          ],
          "name": "stdout"
        },
        {
          "output_type": "stream",
          "text": [
            "\n"
          ],
          "name": "stderr"
        },
        {
          "output_type": "stream",
          "text": [
            "[MoviePy] Writing audio in audio_20.mp3\n"
          ],
          "name": "stdout"
        },
        {
          "output_type": "stream",
          "text": [
            "100%|██████████| 221/221 [00:00<00:00, 477.83it/s]"
          ],
          "name": "stderr"
        },
        {
          "output_type": "stream",
          "text": [
            "[MoviePy] Done.\n"
          ],
          "name": "stdout"
        },
        {
          "output_type": "stream",
          "text": [
            "\n"
          ],
          "name": "stderr"
        },
        {
          "output_type": "stream",
          "text": [
            "[MoviePy] Writing audio in audio_30.mp3\n"
          ],
          "name": "stdout"
        },
        {
          "output_type": "stream",
          "text": [
            "100%|██████████| 221/221 [00:00<00:00, 540.27it/s]\n"
          ],
          "name": "stderr"
        },
        {
          "output_type": "stream",
          "text": [
            "[MoviePy] Done.\n",
            "[MoviePy] Writing audio in audio_40.mp3\n"
          ],
          "name": "stdout"
        },
        {
          "output_type": "stream",
          "text": [
            "100%|██████████| 203/203 [00:00<00:00, 516.19it/s]"
          ],
          "name": "stderr"
        },
        {
          "output_type": "stream",
          "text": [
            "[MoviePy] Done.\n"
          ],
          "name": "stdout"
        },
        {
          "output_type": "stream",
          "text": [
            "\n"
          ],
          "name": "stderr"
        }
      ]
    },
    {
      "cell_type": "code",
      "metadata": {
        "colab": {
          "base_uri": "https://localhost:8080/",
          "height": 75
        },
        "id": "xrHf75Zl1V_q",
        "outputId": "cbecb9de-243f-483c-c0dd-034991b8001c"
      },
      "source": [
        "# Play Audio \n",
        "\n",
        "from IPython.display import Audio\n",
        "Audio(\"audio_0.mp3\")"
      ],
      "execution_count": 4,
      "outputs": [
        {
          "output_type": "execute_result",
          "data": {
            "text/html": [
              "\n",
              "                <audio controls=\"controls\" >\n",
              "                    <source src=\"data:audio/mpeg;base64,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\" type=\"audio/mpeg\" />\n",
              "                    Your browser does not support the audio element.\n",
              "                </audio>\n",
              "              "
            ],
            "text/plain": [
              "<IPython.lib.display.Audio object>"
            ]
          },
          "metadata": {
            "tags": []
          },
          "execution_count": 4
        }
      ]
    },
    {
      "cell_type": "markdown",
      "metadata": {
        "id": "ctex-G8i3XcZ"
      },
      "source": [
        "###### Transcribe"
      ]
    },
    {
      "cell_type": "code",
      "metadata": {
        "colab": {
          "base_uri": "https://localhost:8080/"
        },
        "id": "r4cC-prg1V8p",
        "outputId": "a960f141-fa6e-4d30-e6ad-cc9c3cb8c873"
      },
      "source": [
        "!pip install -q transformers"
      ],
      "execution_count": 5,
      "outputs": [
        {
          "output_type": "stream",
          "text": [
            "\u001b[K     |████████████████████████████████| 2.0MB 12.0MB/s \n",
            "\u001b[K     |████████████████████████████████| 3.2MB 53.8MB/s \n",
            "\u001b[K     |████████████████████████████████| 890kB 49.6MB/s \n",
            "\u001b[?25h  Building wheel for sacremoses (setup.py) ... \u001b[?25l\u001b[?25hdone\n"
          ],
          "name": "stdout"
        }
      ]
    },
    {
      "cell_type": "code",
      "metadata": {
        "colab": {
          "base_uri": "https://localhost:8080/",
          "height": 319,
          "referenced_widgets": [
            "829f0ba134194d938ee5073a949a0356",
            "a4b839a890184572a17082f199c56c3e",
            "d160fc0d09d84ee8b844773d6ec63483",
            "eab3d102ffdf46c08314f3a0a959d8e7",
            "0c57a2fbbdf245b79c9559af1d391415",
            "6a73e8fa6a44412082e37f8ce0a2f68f",
            "a108323ab915483abbff33ee0300d552",
            "5a9f7b41e87c40ed8e0fc2cba9980e8b",
            "378d1964513c4f39a38cbd67aac1e982",
            "35e383590f49457fb4ac42f718239339",
            "7afc69793ff74cdc86016cac1b9df3c9",
            "cc2a8f54b5ff47f4b8dbc978d155fe34",
            "d132d19bc6514bf3a8a416277cc38f73",
            "9257e052bb9f4a7683394fd882ba9098",
            "894b1a83b3ce4a8a9c5b03ac877df6b0",
            "c5f3c21d08b64f8bb34960bad18e5ed1",
            "52eefaf454e74724ba23ec5e4047fc51",
            "120eb5e73f8a473b9c63bca2b682ffeb",
            "13178198a584422bab813c6ff6d7d060",
            "94c8a6a8855a4ca8869499b00b5e4093",
            "d0027fc3c42c4b56974857036d920674",
            "816990ad62d64e95a5cad8fa6758b3fd",
            "677d335a967a4b53bb1eb1156200107a",
            "34f1a78fd89c4d9792f6a87b550827b3",
            "a0deee8ea34c4f7b8dbc6f41f711339a",
            "e4c8c371f94f4610bff0dc454e754719",
            "6be5a2e324094f01a5ce6c1ff5fddf3b",
            "9c80f6d4a24a4b26a69022283d47e070",
            "aa2003c958444621ad4b2bf95dee39c5",
            "0da1133a19c442c7b4a459b86fdf57cc",
            "97be2bb8c97e48c8bb0e3156ad48c499",
            "4584f05000894abbac5e4d18cc5d0436",
            "5e479b4fcfaf416eb72723574de0484d",
            "fd1d6abceff14f00bdb384bb397d35e5",
            "7b307249acdb478b9c6803545e145708",
            "b62bf5071ea44e9aa16b695c1486ca15",
            "38d601a5581e45d0b7689e212b0348d2",
            "21631f32016b4f0580d7a59eb74838a9",
            "49c0a3dd853b482485169c1f063046cc",
            "032a24d1d44849b0952a9b386a08a363"
          ]
        },
        "id": "50RiDai23kRk",
        "outputId": "974e16fc-e41b-4c2b-965a-00487f59ca3c"
      },
      "source": [
        " from transformers import Wav2Vec2Tokenizer, Wav2Vec2ForCTC\n",
        "\n",
        " # load model and tokenizer\n",
        " tokenizer = Wav2Vec2Tokenizer.from_pretrained(\"facebook/wav2vec2-base-960h\")\n",
        " model = Wav2Vec2ForCTC.from_pretrained(\"facebook/wav2vec2-base-960h\")"
      ],
      "execution_count": 6,
      "outputs": [
        {
          "output_type": "display_data",
          "data": {
            "application/vnd.jupyter.widget-view+json": {
              "model_id": "829f0ba134194d938ee5073a949a0356",
              "version_minor": 0,
              "version_major": 2
            },
            "text/plain": [
              "HBox(children=(FloatProgress(value=0.0, description='Downloading', max=291.0, style=ProgressStyle(description_…"
            ]
          },
          "metadata": {
            "tags": []
          }
        },
        {
          "output_type": "stream",
          "text": [
            "\n"
          ],
          "name": "stdout"
        },
        {
          "output_type": "display_data",
          "data": {
            "application/vnd.jupyter.widget-view+json": {
              "model_id": "378d1964513c4f39a38cbd67aac1e982",
              "version_minor": 0,
              "version_major": 2
            },
            "text/plain": [
              "HBox(children=(FloatProgress(value=0.0, description='Downloading', max=163.0, style=ProgressStyle(description_…"
            ]
          },
          "metadata": {
            "tags": []
          }
        },
        {
          "output_type": "stream",
          "text": [
            "\n"
          ],
          "name": "stdout"
        },
        {
          "output_type": "display_data",
          "data": {
            "application/vnd.jupyter.widget-view+json": {
              "model_id": "52eefaf454e74724ba23ec5e4047fc51",
              "version_minor": 0,
              "version_major": 2
            },
            "text/plain": [
              "HBox(children=(FloatProgress(value=0.0, description='Downloading', max=85.0, style=ProgressStyle(description_w…"
            ]
          },
          "metadata": {
            "tags": []
          }
        },
        {
          "output_type": "stream",
          "text": [
            "\n"
          ],
          "name": "stdout"
        },
        {
          "output_type": "display_data",
          "data": {
            "application/vnd.jupyter.widget-view+json": {
              "model_id": "a0deee8ea34c4f7b8dbc6f41f711339a",
              "version_minor": 0,
              "version_major": 2
            },
            "text/plain": [
              "HBox(children=(FloatProgress(value=0.0, description='Downloading', max=843.0, style=ProgressStyle(description_…"
            ]
          },
          "metadata": {
            "tags": []
          }
        },
        {
          "output_type": "stream",
          "text": [
            "\n"
          ],
          "name": "stdout"
        },
        {
          "output_type": "display_data",
          "data": {
            "application/vnd.jupyter.widget-view+json": {
              "model_id": "5e479b4fcfaf416eb72723574de0484d",
              "version_minor": 0,
              "version_major": 2
            },
            "text/plain": [
              "HBox(children=(FloatProgress(value=0.0, description='Downloading', max=377667514.0, style=ProgressStyle(descri…"
            ]
          },
          "metadata": {
            "tags": []
          }
        },
        {
          "output_type": "stream",
          "text": [
            "\n"
          ],
          "name": "stdout"
        },
        {
          "output_type": "stream",
          "text": [
            "Some weights of Wav2Vec2ForCTC were not initialized from the model checkpoint at facebook/wav2vec2-base-960h and are newly initialized: ['wav2vec2.masked_spec_embed']\n",
            "You should probably TRAIN this model on a down-stream task to be able to use it for predictions and inference.\n"
          ],
          "name": "stderr"
        }
      ]
    },
    {
      "cell_type": "code",
      "metadata": {
        "colab": {
          "base_uri": "https://localhost:8080/"
        },
        "id": "oTQkWG-13e8r",
        "outputId": "1981fb86-bb80-4d0a-f2a9-9b23a6df3dff"
      },
      "source": [
        "import librosa\n",
        "import torch\n",
        "\n",
        "cc = \"\"\n",
        "\n",
        "# Doing one by one instead of batched to save RAM\n",
        "for path in clip_paths:\n",
        "    input_audio, _ = librosa.load(path, \n",
        "                                  sr=16000)\n",
        "\n",
        "    input_values = tokenizer(input_audio, return_tensors=\"pt\", padding=\"longest\").input_values\n",
        "\n",
        "    logits = model(input_values).logits\n",
        "    predicted_ids = torch.argmax(logits, dim=-1)\n",
        "    transcription = tokenizer.batch_decode(predicted_ids)[0]\n",
        "\n",
        "    cc += transcription + \"  \"\n",
        "\n",
        "print(cc)"
      ],
      "execution_count": 7,
      "outputs": [
        {
          "output_type": "stream",
          "text": [
            "NOW FEEL YOU COLD SIR AFRAID ARE YOU NO SIR  SAY THROUGH YOU WE CAN BE MINDFUL OF YOUR FEELING YOUR THOUGHTS DWELL ON YOUR MOTHER  I MISS HER AFRAID TO LOSE HER I THINK  WHAT HAS I GOT TO DO WITH ANYTHING EVERYTHING O  EAR IS THE PATH TO THE DARK SIGH FEAR TEAS TO ANGER ANGRILEAS TO HATE HATE LEADS TO SUFFERING  W I SENSE MUCH FAIR IN YOW  \n"
          ],
          "name": "stdout"
        }
      ]
    },
    {
      "cell_type": "markdown",
      "metadata": {
        "id": "EgGyHRZD1Tti"
      },
      "source": [
        "#### Experiments (Ignore)"
      ]
    },
    {
      "cell_type": "code",
      "metadata": {
        "colab": {
          "base_uri": "https://localhost:8080/"
        },
        "id": "0_mrFfmowwSF",
        "outputId": "4c5f87aa-6376-488b-f50a-d5fb9b1decd4"
      },
      "source": [
        "!pip install -q transformers\n",
        "!pip install -q datasets"
      ],
      "execution_count": 2,
      "outputs": [
        {
          "output_type": "stream",
          "text": [
            "\u001b[K     |████████████████████████████████| 2.0MB 8.3MB/s \n",
            "\u001b[K     |████████████████████████████████| 3.2MB 39.5MB/s \n",
            "\u001b[K     |████████████████████████████████| 890kB 53.7MB/s \n",
            "\u001b[?25h  Building wheel for sacremoses (setup.py) ... \u001b[?25l\u001b[?25hdone\n",
            "\u001b[K     |████████████████████████████████| 194kB 9.1MB/s \n",
            "\u001b[K     |████████████████████████████████| 245kB 14.9MB/s \n",
            "\u001b[K     |████████████████████████████████| 112kB 11.6MB/s \n",
            "\u001b[?25h"
          ],
          "name": "stdout"
        }
      ]
    },
    {
      "cell_type": "code",
      "metadata": {
        "id": "uA__cFc8yhLH"
      },
      "source": [
        "# Calculate Hz\n",
        "data = wavfile.read(file_name)\n",
        "framerate = data[0]\n",
        "sounddata = data[1]\n",
        "time = np.arange(0,len(sounddata))/framerate\n",
        "print('Sample rate:',framerate,'Hz')\n",
        "print('Total time:',len(sounddata)/framerate,'s')"
      ],
      "execution_count": null,
      "outputs": []
    },
    {
      "cell_type": "markdown",
      "metadata": {
        "id": "NF9wKNk8y1qH"
      },
      "source": [
        "##### Model"
      ]
    },
    {
      "cell_type": "code",
      "metadata": {
        "colab": {
          "base_uri": "https://localhost:8080/",
          "height": 536,
          "referenced_widgets": [
            "fd8d0bbbbc0b419596f4e41afcc0cdd7",
            "310def0a6a3e4e99b63c1a62d54bb638",
            "401e57fcd07348af91a2b0f3b0e95688",
            "25d9e672bd3e4380bb82be757a3cd4f3",
            "22ff3846a77d46618693fea2131e0134",
            "772252a5d7ed4c1daefc03145f8c0e12",
            "f951586d4fb94c5aa98567c498dee2bf",
            "ec0248a3cd434b7fb650aa5d312b9c37",
            "9935f6b44cef46a093e6524c7e4dc2d9",
            "5a35822299e34608b9cfbade2fbb3e40",
            "2030ce4e810b4aee977531047a7dc681",
            "b257d52aa20a4e3d900cd7ef93dbcd2e",
            "a4d9be73644448d18c10c0b053ad4516",
            "63e2384c200342e4a18fb289ec962eb8",
            "53e101b7effd49468cf7fb4e2ade83fd",
            "84f87693cf044357a5d91dc1b5c76b4d",
            "5ae0b7dd3da24d68b7a47c5a10acd6e0",
            "16ab1cfdceda4a9eba60104be96f4060",
            "8d6b9e650a82422d9360d37764912b7f",
            "0ab4b38c9c6a4240ae350e0f253c4317",
            "1e5346e5e97849b991aacc6001522c99",
            "bf5a3df15748406590a6350bfbdc8439",
            "4453270998d74e5aa34a1b106dd35ac0",
            "2c15ae87d81646d38c5c46ab0273fc90",
            "b3277a593db74582bc660d6533faf0f9",
            "99cf340935d7481281be5bdd6400550b",
            "8d0561126152485199f4472b27ba9413",
            "72116cc832e840d996749177cf3417de",
            "7a1746f9cb974c9f814abbdcacff7049",
            "7b4add559bd9453ea78abaea059b5257",
            "a08a1fad8aa94987893c812b4b26b674",
            "b46d82f5b7764c9fb9ec9dcde7ea60ed",
            "7d723ec2ed3a4c8480c89ef8b831c067",
            "fc903d837bfd45ceacd0bf020c03c89a",
            "d0f2f0c36dc448d4ab70457b93ccecc0",
            "b6f2ee816d4a474786ee5119540e95f8",
            "431bd83a503c4bcdaa5beaa7c6475153",
            "6806aa6de5514b99ab7de6a1f250bc7f",
            "0b5ecee029b741019fe8d8d15fc88b44",
            "efb52d1702aa4607a18078ec9df24d4f",
            "65e194a07ec44a49922b5f9990d22ad0",
            "5a1c7331e2e24b67a76dfa6720095982",
            "539888606b134db7b4d0b262f85ad4fd",
            "d9dcadd21403499ea5c7144cbc824af1",
            "dd5321dad0c24e3f92bd2071fa4b16b9",
            "797ab57a81964d5db3e214fa5d9a6833",
            "de315e5e91b24054aac889c726b99e4b",
            "df58c746c92a4ec884064e0b8aa9a779",
            "dda0cbab5c794756ac2158316962cc53",
            "f2ad7458fe63496cbf7f4feb73ddc004",
            "dadc4b833fb4481e998f4f20d458bf76",
            "fb9e1c7e560b47fb8588f855b39a94b2",
            "eee0c4050a8f4cfb8b3e7ead5a085b2c",
            "1e73adb12d244ad3ab92ed36599cbefa",
            "d0ca09ea4936450bac81cb70f1ab25cb",
            "09e738408db04b5a8a8c2ec98d5e0abe",
            "7a97f97c25334c07bcb7716d2569e119",
            "6e0d9c09e3b24399b9abdd1a0936c7b1",
            "4928d03afdb64d17a7b5f5c4d2a69766",
            "03ba5e7e54e944c581d0a1bab8badea3",
            "77f4c3d68ab745418442e17bcc8fe694",
            "650c6f5f93ba420d9d5cd220929873a9",
            "ae7a2c16784544f7b08088e323844f7a",
            "e9991f82e85f4dd3b7304d618e8a9f95",
            "d4a3771caba44c63aa5ee3285c028944",
            "dcc2c4dd793146d881978c92d7f3a324",
            "8d5536751e3d484e9e1660a21992683b",
            "f4101d30452548fbaf93f59c35d65879",
            "727d0f84e95c4748ba31eea8adf2fe7b",
            "d00eda8e177a43de88aa610712fd5b9c",
            "978a81dda57b40e58b2c8be03f00e26b",
            "1d72da19b1a9499a9baa3834d04199a9"
          ]
        },
        "id": "PM8E-8JZwwvg",
        "outputId": "12af11fc-ca3c-4279-ab67-7618231c9c9f"
      },
      "source": [
        " from transformers import Wav2Vec2Tokenizer, Wav2Vec2ForCTC\n",
        " from datasets import load_dataset\n",
        " import soundfile as sf\n",
        " import torch\n",
        "\n",
        " # load model and tokenizer\n",
        " tokenizer = Wav2Vec2Tokenizer.from_pretrained(\"facebook/wav2vec2-large-960h\")\n",
        " model = Wav2Vec2ForCTC.from_pretrained(\"facebook/wav2vec2-large-960h\")\n",
        "\n",
        " # define function to read in sound file\n",
        " def map_to_array(batch):\n",
        "     speech, _ = sf.read(batch[\"file\"])\n",
        "     batch[\"speech\"] = speech\n",
        "     return batch\n",
        "\n",
        " # load dummy dataset and read soundfiles\n",
        " ds = load_dataset(\"patrickvonplaten/librispeech_asr_dummy\", \"clean\", split=\"validation\")\n",
        " ds = ds.map(map_to_array)\n",
        "\n",
        " # tokenize\n",
        " input_values = tokenizer(ds[\"speech\"][:2], return_tensors=\"pt\", padding=\"longest\").input_values  # Batch size 1\n",
        "\n",
        " # retrieve logits\n",
        " logits = model(input_values).logits\n",
        "\n",
        " # take argmax and decode\n",
        " predicted_ids = torch.argmax(logits, dim=-1)\n",
        " transcription = tokenizer.batch_decode(predicted_ids)"
      ],
      "execution_count": 3,
      "outputs": [
        {
          "output_type": "display_data",
          "data": {
            "application/vnd.jupyter.widget-view+json": {
              "model_id": "fd8d0bbbbc0b419596f4e41afcc0cdd7",
              "version_minor": 0,
              "version_major": 2
            },
            "text/plain": [
              "HBox(children=(FloatProgress(value=0.0, description='Downloading', max=291.0, style=ProgressStyle(description_…"
            ]
          },
          "metadata": {
            "tags": []
          }
        },
        {
          "output_type": "stream",
          "text": [
            "\n"
          ],
          "name": "stdout"
        },
        {
          "output_type": "display_data",
          "data": {
            "application/vnd.jupyter.widget-view+json": {
              "model_id": "9935f6b44cef46a093e6524c7e4dc2d9",
              "version_minor": 0,
              "version_major": 2
            },
            "text/plain": [
              "HBox(children=(FloatProgress(value=0.0, description='Downloading', max=163.0, style=ProgressStyle(description_…"
            ]
          },
          "metadata": {
            "tags": []
          }
        },
        {
          "output_type": "stream",
          "text": [
            "\n"
          ],
          "name": "stdout"
        },
        {
          "output_type": "display_data",
          "data": {
            "application/vnd.jupyter.widget-view+json": {
              "model_id": "5ae0b7dd3da24d68b7a47c5a10acd6e0",
              "version_minor": 0,
              "version_major": 2
            },
            "text/plain": [
              "HBox(children=(FloatProgress(value=0.0, description='Downloading', max=85.0, style=ProgressStyle(description_w…"
            ]
          },
          "metadata": {
            "tags": []
          }
        },
        {
          "output_type": "stream",
          "text": [
            "\n"
          ],
          "name": "stdout"
        },
        {
          "output_type": "stream",
          "text": [
            "/usr/local/lib/python3.7/dist-packages/transformers/models/wav2vec2/tokenization_wav2vec2.py:358: FutureWarning: The class `Wav2Vec2Tokenizer` is deprecated and will be removed in version 5 of Transformers. Please use `Wav2Vec2Processor` or `Wav2Vec2CTCTokenizer` instead.\n",
            "  FutureWarning,\n"
          ],
          "name": "stderr"
        },
        {
          "output_type": "display_data",
          "data": {
            "application/vnd.jupyter.widget-view+json": {
              "model_id": "b3277a593db74582bc660d6533faf0f9",
              "version_minor": 0,
              "version_major": 2
            },
            "text/plain": [
              "HBox(children=(FloatProgress(value=0.0, description='Downloading', max=843.0, style=ProgressStyle(description_…"
            ]
          },
          "metadata": {
            "tags": []
          }
        },
        {
          "output_type": "stream",
          "text": [
            "\n"
          ],
          "name": "stdout"
        },
        {
          "output_type": "display_data",
          "data": {
            "application/vnd.jupyter.widget-view+json": {
              "model_id": "7d723ec2ed3a4c8480c89ef8b831c067",
              "version_minor": 0,
              "version_major": 2
            },
            "text/plain": [
              "HBox(children=(FloatProgress(value=0.0, description='Downloading', max=1262009187.0, style=ProgressStyle(descr…"
            ]
          },
          "metadata": {
            "tags": []
          }
        },
        {
          "output_type": "stream",
          "text": [
            "\n"
          ],
          "name": "stdout"
        },
        {
          "output_type": "stream",
          "text": [
            "Some weights of Wav2Vec2ForCTC were not initialized from the model checkpoint at facebook/wav2vec2-large-960h and are newly initialized: ['wav2vec2.masked_spec_embed']\n",
            "You should probably TRAIN this model on a down-stream task to be able to use it for predictions and inference.\n"
          ],
          "name": "stderr"
        },
        {
          "output_type": "display_data",
          "data": {
            "application/vnd.jupyter.widget-view+json": {
              "model_id": "65e194a07ec44a49922b5f9990d22ad0",
              "version_minor": 0,
              "version_major": 2
            },
            "text/plain": [
              "HBox(children=(FloatProgress(value=0.0, description='Downloading', max=5019.0, style=ProgressStyle(description…"
            ]
          },
          "metadata": {
            "tags": []
          }
        },
        {
          "output_type": "stream",
          "text": [
            "\n",
            "Downloading and preparing dataset librispeech_asr/clean (download: Unknown size, generated: Unknown size, post-processed: Unknown size, total: Unknown size) to /root/.cache/huggingface/datasets/librispeech_asr/clean/2.1.0/468ec03677f46a8714ac6b5b64dba02d246a228d92cbbad7f3dc190fa039eab1...\n"
          ],
          "name": "stdout"
        },
        {
          "output_type": "display_data",
          "data": {
            "application/vnd.jupyter.widget-view+json": {
              "model_id": "dda0cbab5c794756ac2158316962cc53",
              "version_minor": 0,
              "version_major": 2
            },
            "text/plain": [
              "HBox(children=(FloatProgress(value=0.0, description='Downloading', max=9078094.0, style=ProgressStyle(descript…"
            ]
          },
          "metadata": {
            "tags": []
          }
        },
        {
          "output_type": "stream",
          "text": [
            "\n"
          ],
          "name": "stdout"
        },
        {
          "output_type": "display_data",
          "data": {
            "application/vnd.jupyter.widget-view+json": {
              "model_id": "7a97f97c25334c07bcb7716d2569e119",
              "version_minor": 0,
              "version_major": 2
            },
            "text/plain": [
              "HBox(children=(FloatProgress(value=1.0, bar_style='info', max=1.0), HTML(value='')))"
            ]
          },
          "metadata": {
            "tags": []
          }
        },
        {
          "output_type": "stream",
          "text": [
            "\rDataset librispeech_asr downloaded and prepared to /root/.cache/huggingface/datasets/librispeech_asr/clean/2.1.0/468ec03677f46a8714ac6b5b64dba02d246a228d92cbbad7f3dc190fa039eab1. Subsequent calls will reuse this data.\n"
          ],
          "name": "stdout"
        },
        {
          "output_type": "display_data",
          "data": {
            "application/vnd.jupyter.widget-view+json": {
              "model_id": "d4a3771caba44c63aa5ee3285c028944",
              "version_minor": 0,
              "version_major": 2
            },
            "text/plain": [
              "HBox(children=(FloatProgress(value=0.0, max=73.0), HTML(value='')))"
            ]
          },
          "metadata": {
            "tags": []
          }
        },
        {
          "output_type": "stream",
          "text": [
            "\n"
          ],
          "name": "stdout"
        }
      ]
    },
    {
      "cell_type": "code",
      "metadata": {
        "colab": {
          "base_uri": "https://localhost:8080/"
        },
        "id": "1CrDEdlFwxRb",
        "outputId": "981b36f1-3f2b-4270-abf7-fb73f6df0b3f"
      },
      "source": [
        "transcription"
      ],
      "execution_count": 4,
      "outputs": [
        {
          "output_type": "execute_result",
          "data": {
            "text/plain": [
              "['BECAUSE YOU ARE SLEEPING INSTEAD OF CONQUERING THE LOVELY ROSE PRINCESS HAS BECOME A FIDDLE WITHOUT A BOAW WILE POOR SHAGGY SITS THERE A COOING DOVE',\n",
              " 'HE HAS GONE AND GONE FOR GOOD ANSWERED POLYCHROME WHO HAD MANAGED TO SQUEEZE INTO THE ROOM BESIDE THE DRAGON AND HAD WITNESSED THE OCCURRENCES WITH MUCH INTEREST']"
            ]
          },
          "metadata": {
            "tags": []
          },
          "execution_count": 4
        }
      ]
    }
  ]
}